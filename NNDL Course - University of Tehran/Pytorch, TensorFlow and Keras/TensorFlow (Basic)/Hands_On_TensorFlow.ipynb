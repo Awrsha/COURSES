{
 "cells": [
  {
   "cell_type": "markdown",
   "metadata": {
    "id": "UenhY8lKubii"
   },
   "source": [
    "## TensorFlow\n",
    "Fatemeh Naeinian"
   ]
  },
  {
   "cell_type": "markdown",
   "metadata": {
    "id": "tK0EbmoZuZNk"
   },
   "source": [
    "TensorFlow is a large and powerful library that provides a wide range of functions and features for building and training machine learning models. However, there are a few functions that are particularly important and commonly used. Here are some of the most important functions in TensorFlow:\n",
    "\n",
    "* tf.constant(): This function creates a constant tensor with a specified value. It is often used to define input data or model parameters that are not changed during training.\n",
    "\n",
    "* tf.Variable(): This function creates a mutable tensor variable that can be modified during training. Variables are often used to store model parameters that are updated during optimization.\n",
    "\n",
    "\n",
    "* tf.matmul(): This function performs matrix multiplication between two tensors. It is a fundamental building block for many machine learning models, including neural networks.\n",
    "\n",
    "* tf.nn.relu(): This function implements the rectified linear activation function, which is commonly used in neural networks. It helps to introduce non-linearity into the model and can improve its ability to learn complex patterns.\n",
    "\n",
    "* tf.train.Optimizer(): This class provides a variety of optimization algorithms that can be used to train machine learning models. Some common optimizers include Stochastic Gradient Descent (SGD), Adam, and Adagrad.\n",
    "\n",
    "* tf.reduce_mean(): This function computes the mean of a tensor along a specified axis. It is often used to compute the loss function during training.\n",
    "\n",
    "These are just a few of the most important functions in TensorFlow, but there are many others that are also useful for building and training machine learning models."
   ]
  },
  {
   "cell_type": "code",
   "execution_count": 1,
   "metadata": {
    "id": "4pyihO5TuFhb"
   },
   "outputs": [],
   "source": [
    "import tensorflow as tf"
   ]
  },
  {
   "cell_type": "markdown",
   "metadata": {
    "id": "6pTqy8RtvNjv"
   },
   "source": [
    "Tensors\n",
    "\n",
    "In TensorFlow, a Tensor is a multi-dimensional array with a data type and a shape. Tensors can represent scalars, vectors, matrices, or higher-dimensional arrays. You can create a tensor using the tf.constant function, like this:"
   ]
  },
  {
   "cell_type": "code",
   "execution_count": 4,
   "metadata": {
    "colab": {
     "base_uri": "https://localhost:8080/"
    },
    "id": "qu44z6UwvOXa",
    "outputId": "e953eb85-fb1e-42a4-b1c9-5f8be28870c1"
   },
   "outputs": [
    {
     "name": "stdout",
     "output_type": "stream",
     "text": [
      "42\n",
      "[1 2 3]\n",
      "[[1 2]\n",
      " [3 4]]\n"
     ]
    }
   ],
   "source": [
    "# Create a tensor\n",
    "x = tf.constant(42)\n",
    "y = tf.constant([1, 2, 3])\n",
    "z = tf.constant([[1, 2], [3, 4]], dtype=tf.float32)\n",
    "\n",
    "tf.print(x)\n",
    "tf.print(y)\n",
    "tf.print(z)"
   ]
  },
  {
   "cell_type": "markdown",
   "metadata": {
    "id": "Pvo3NAKmvXBl"
   },
   "source": [
    "Operations\n",
    "\n",
    "In TensorFlow, an Operation is a mathematical computation on one or more tensors. You can create an operation using the various functions provided by TensorFlow, such as tf.add, tf.multiply, tf.matmul, and so on. Here's an example of adding two tensors:"
   ]
  },
  {
   "cell_type": "code",
   "execution_count": 5,
   "metadata": {
    "colab": {
     "base_uri": "https://localhost:8080/"
    },
    "id": "3WW6iMjhvXYf",
    "outputId": "a960810d-0e48-44d1-e84a-306f37455f0c"
   },
   "outputs": [
    {
     "name": "stdout",
     "output_type": "stream",
     "text": [
      "a =\n",
      " [[1 2]\n",
      " [3 4]]\n",
      "b =\n",
      " [[5 6]\n",
      " [7 8]]\n",
      "c = a + b\n",
      " [[6 8]\n",
      " [10 12]]\n",
      "d = a .* b\n",
      " [[5 12]\n",
      " [21 32]]\n",
      "e = a * b\n",
      " [[19 22]\n",
      " [43 50]]\n",
      "f = a - b\n",
      " [[-4 -4]\n",
      " [-4 -4]]\n",
      "g = a ./ b\n",
      " [[0.2 0.333333343]\n",
      " [0.428571433 0.5]]\n"
     ]
    }
   ],
   "source": [
    "# Create two tensors\n",
    "a = tf.constant([[1, 2], [3, 4]], dtype=tf.float32)\n",
    "b = tf.constant([[5, 6], [7, 8]], dtype=tf.float32)\n",
    "\n",
    "# Add the tensors\n",
    "c = tf.add(a, b)\n",
    "d = tf.multiply(a, b)\n",
    "e = tf.matmul(a, b)\n",
    "f = tf.subtract(a, b)\n",
    "g = tf.divide(a, b)\n",
    "\n",
    "tf.print('a =\\n',(a))\n",
    "tf.print('b =\\n',(b))\n",
    "tf.print('c = a + b\\n',(c))\n",
    "tf.print('d = a .* b\\n',(d))\n",
    "tf.print('e = a * b\\n',(e))\n",
    "tf.print('f = a - b\\n',(f))\n",
    "tf.print('g = a ./ b\\n',(g))"
   ]
  },
  {
   "cell_type": "markdown",
   "metadata": {
    "id": "pbqIV0YjvsCF"
   },
   "source": [
    "Variables\n",
    "\n",
    "In TensorFlow, a Variable is a tensor whose value can be changed during the computation. Variables are typically used to represent the parameters of a machine learning model. You can create a variable using the tf.Variable function, like this:"
   ]
  },
  {
   "cell_type": "code",
   "execution_count": 8,
   "metadata": {
    "colab": {
     "base_uri": "https://localhost:8080/"
    },
    "id": "yVkwobcdvu9_",
    "outputId": "49248d9a-3e53-4556-e8dc-7d8cb278bce0"
   },
   "outputs": [
    {
     "name": "stdout",
     "output_type": "stream",
     "text": [
      "weights\n",
      " [[-0.529936075 0.828071773 -0.217010692]\n",
      " [2.85200453 -0.260340095 -1.67085671]]\n",
      "biases\n",
      " [-1.17284942 -0.367705703 0.128562331]\n"
     ]
    }
   ],
   "source": [
    "# Create a variable\n",
    "w = tf.Variable(tf.random.normal([2, 3]), name='weights')\n",
    "b = tf.Variable(tf.random.normal([3]), name='biases')\n",
    "tf.print('weights =\\n',w)\n",
    "tf.print('biases =\\n',b)"
   ]
  },
  {
   "cell_type": "markdown",
   "metadata": {
    "id": "ElRpdZedtpfU"
   },
   "source": [
    "tf.nn.relu\n",
    "\n",
    "tf.nn.relu(\n",
    "    features, name=None\n",
    ")\n",
    "\n",
    "ReLU(x)=max(0,x)"
   ]
  },
  {
   "cell_type": "code",
   "execution_count": 10,
   "metadata": {
    "colab": {
     "base_uri": "https://localhost:8080/",
     "height": 295
    },
    "id": "9Syl6H1Uto9n",
    "outputId": "0935f71a-1d90-40a7-cb25-79e47dc779f4"
   },
   "outputs": [
    {
     "data": {
      "image/png": "[encoded data removed]",
      "text/plain": [
       "<Figure size 432x288 with 1 Axes>"
      ]
     },
     "metadata": {
      "needs_background": "light"
     },
     "output_type": "display_data"
    }
   ],
   "source": [
    "import matplotlib.pyplot as plt\n",
    "\n",
    "x = tf.linspace(-2, 2, 201)\n",
    "x = tf.cast(x, tf.float32)\n",
    "plt.plot(x, tf.nn.relu(x));\n",
    "plt.xlabel('x')\n",
    "plt.ylabel('ReLU(x)')\n",
    "plt.title('ReLU activation function');"
   ]
  },
  {
   "cell_type": "markdown",
   "metadata": {
    "id": "uzKSfCpxtq0q"
   },
   "source": [
    "tf.nn.softmax\n",
    "\n",
    "tf.nn.softmax(\n",
    "    logits, axis=None, name=None\n",
    ")\n",
    "\n",
    "Softmax(X)=exp(X)/Σexp(Xi)\n",
    "\n"
   ]
  },
  {
   "cell_type": "code",
   "execution_count": 16,
   "metadata": {
    "colab": {
     "base_uri": "https://localhost:8080/",
     "height": 295
    },
    "id": "9X0J89s7toyq",
    "outputId": "19b4a5a1-7093-476b-a33c-259221909192"
   },
   "outputs": [
    {
     "data": {
      "image/png": "[encoded data removed]",
      "text/plain": [
       "<Figure size 432x288 with 1 Axes>"
      ]
     },
     "metadata": {
      "needs_background": "light"
     },
     "output_type": "display_data"
    }
   ],
   "source": [
    "x = tf.linspace(-4, 4, 201)\n",
    "x = tf.cast(x, tf.float32)\n",
    "plt.plot(x, tf.nn.softmax(x, axis=0));\n",
    "plt.xlabel('x')\n",
    "plt.ylabel('Softmax(x)')\n",
    "plt.title('Softmax activation function');"
   ]
  },
  {
   "cell_type": "markdown",
   "metadata": {
    "id": "QWhWhBH-trep"
   },
   "source": [
    "tf.math.tanh\n",
    "\n",
    "tf.math.tanh(\n",
    "    x, name=None\n",
    ")\n"
   ]
  },
  {
   "cell_type": "code",
   "execution_count": 19,
   "metadata": {
    "colab": {
     "base_uri": "https://localhost:8080/",
     "height": 295
    },
    "id": "Z4oDSwKXtom-",
    "outputId": "b3c2c376-474b-41b5-f27e-bb3da200a797"
   },
   "outputs": [
    {
     "data": {
      "image/png": "[encoded data removed]",
      "text/plain": [
       "<Figure size 432x288 with 1 Axes>"
      ]
     },
     "metadata": {
      "needs_background": "light"
     },
     "output_type": "display_data"
    }
   ],
   "source": [
    "x = tf.linspace(-6, 6, 201)\n",
    "x = tf.cast(x, tf.float32)\n",
    "plt.plot(x, tf.nn.tanh(x));\n",
    "plt.xlabel('x')\n",
    "plt.ylabel('tanh(x)')\n",
    "plt.title('tanh activation function');"
   ]
  },
  {
   "cell_type": "markdown",
   "metadata": {
    "id": "0fR7KIMXyTY0"
   },
   "source": [
    "tf.math.sigmoid\n",
    "\n",
    "tf.math.sigmoid(\n",
    "    x, name=None\n",
    ")\n",
    "\n",
    "sigmoid(x)=1/(1+exp(-x))"
   ]
  },
  {
   "cell_type": "code",
   "execution_count": 20,
   "metadata": {
    "colab": {
     "base_uri": "https://localhost:8080/",
     "height": 295
    },
    "id": "lJBDSrZlx70O",
    "outputId": "8e544c11-13a1-4d5a-cac5-d0cafe0e9a67"
   },
   "outputs": [
    {
     "data": {
      "image/png": "[encoded data removed]",
      "text/plain": [
       "<Figure size 432x288 with 1 Axes>"
      ]
     },
     "metadata": {
      "needs_background": "light"
     },
     "output_type": "display_data"
    }
   ],
   "source": [
    "x = tf.linspace(-6, 6, 201)\n",
    "x = tf.cast(x, tf.float32)\n",
    "plt.plot(x, tf.nn.sigmoid(x));\n",
    "plt.xlabel('x')\n",
    "plt.ylabel('sigmoid(x)')\n",
    "plt.title('sigmoid activation function');"
   ]
  }
 ],
 "metadata": {
  "colab": {
   "provenance": []
  },
  "gpuClass": "standard",
  "kernelspec": {
   "display_name": "Python 3 (ipykernel)",
   "language": "python",
   "name": "python3"
  },
  "language_info": {
   "codemirror_mode": {
    "name": "ipython",
    "version": 3
   },
   "file_extension": ".py",
   "mimetype": "text/x-python",
   "name": "python",
   "nbconvert_exporter": "python",
   "pygments_lexer": "ipython3",
   "version": "3.9.12"
  }
 },
 "nbformat": 4,
 "nbformat_minor": 1
}
