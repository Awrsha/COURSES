{
 "cells": [
  {
   "cell_type": "markdown",
   "metadata": {},
   "source": [
    "### وارد کردن کتابخانه ها"
   ]
  },
  {
   "cell_type": "code",
   "execution_count": 1,
   "metadata": {},
   "outputs": [],
   "source": [
    "import numpy as np\n",
    "import pandas as pd\n",
    "import matplotlib.pyplot as plt\n",
    "import string\n",
    "from nltk.stem import SnowballStemmer\n",
    "from nltk.corpus import stopwords\n",
    "from sklearn.feature_extraction.text import TfidfVectorizer\n",
    "from sklearn.model_selection import train_test_split\n",
    "import os\n",
    "from textblob import TextBlob\n",
    "from nltk.stem import PorterStemmer\n",
    "from textblob import Word\n",
    "from sklearn.feature_extraction.text import CountVectorizer, TfidfVectorizer\n",
    "import sklearn.feature_extraction.text as text\n",
    "from sklearn import model_selection, preprocessing, linear_model, naive_bayes, metrics, svm\n",
    "from sklearn.naive_bayes import MultinomialNB\n",
    "from sklearn.linear_model import LogisticRegression\n",
    "from sklearn.ensemble import RandomForestClassifier\n",
    "from sklearn.svm import LinearSVC\n",
    "from sklearn.model_selection import cross_val_score\n",
    "from io import StringIO\n",
    "import seaborn as sns"
   ]
  },
  {
   "cell_type": "code",
   "execution_count": 5,
   "metadata": {},
   "outputs": [
    {
     "data": {
      "text/html": [
       "<div>\n",
       "<style scoped>\n",
       "    .dataframe tbody tr th:only-of-type {\n",
       "        vertical-align: middle;\n",
       "    }\n",
       "\n",
       "    .dataframe tbody tr th {\n",
       "        vertical-align: top;\n",
       "    }\n",
       "\n",
       "    .dataframe thead th {\n",
       "        text-align: right;\n",
       "    }\n",
       "</style>\n",
       "<table border=\"1\" class=\"dataframe\">\n",
       "  <thead>\n",
       "    <tr style=\"text-align: right;\">\n",
       "      <th></th>\n",
       "      <th>Date received</th>\n",
       "      <th>Product</th>\n",
       "      <th>Sub-product</th>\n",
       "      <th>Issue</th>\n",
       "      <th>Sub-issue</th>\n",
       "      <th>Consumer complaint narrative</th>\n",
       "      <th>Company public response</th>\n",
       "      <th>Company</th>\n",
       "      <th>State</th>\n",
       "      <th>ZIP code</th>\n",
       "      <th>Tags</th>\n",
       "      <th>Consumer consent provided?</th>\n",
       "      <th>Submitted via</th>\n",
       "      <th>Date sent to company</th>\n",
       "      <th>Company response to consumer</th>\n",
       "      <th>Timely response?</th>\n",
       "      <th>Consumer disputed?</th>\n",
       "      <th>Complaint ID</th>\n",
       "    </tr>\n",
       "  </thead>\n",
       "  <tbody>\n",
       "    <tr>\n",
       "      <th>0</th>\n",
       "      <td>03/21/2017</td>\n",
       "      <td>Credit reporting</td>\n",
       "      <td>NaN</td>\n",
       "      <td>Incorrect information on credit report</td>\n",
       "      <td>Information is not mine</td>\n",
       "      <td>NaN</td>\n",
       "      <td>Company has responded to the consumer and the ...</td>\n",
       "      <td>EXPERIAN DELAWARE GP</td>\n",
       "      <td>TX</td>\n",
       "      <td>77075</td>\n",
       "      <td>Older American</td>\n",
       "      <td>NaN</td>\n",
       "      <td>Phone</td>\n",
       "      <td>03/21/2017</td>\n",
       "      <td>Closed with non-monetary relief</td>\n",
       "      <td>Yes</td>\n",
       "      <td>No</td>\n",
       "      <td>2397100</td>\n",
       "    </tr>\n",
       "    <tr>\n",
       "      <th>1</th>\n",
       "      <td>04/19/2017</td>\n",
       "      <td>Debt collection</td>\n",
       "      <td>Other (i.e. phone, health club, etc.)</td>\n",
       "      <td>Disclosure verification of debt</td>\n",
       "      <td>Not disclosed as an attempt to collect</td>\n",
       "      <td>NaN</td>\n",
       "      <td>NaN</td>\n",
       "      <td>Security Credit Services, LLC</td>\n",
       "      <td>IL</td>\n",
       "      <td>60643</td>\n",
       "      <td>NaN</td>\n",
       "      <td>NaN</td>\n",
       "      <td>Web</td>\n",
       "      <td>04/20/2017</td>\n",
       "      <td>Closed with explanation</td>\n",
       "      <td>Yes</td>\n",
       "      <td>No</td>\n",
       "      <td>2441777</td>\n",
       "    </tr>\n",
       "    <tr>\n",
       "      <th>2</th>\n",
       "      <td>04/19/2017</td>\n",
       "      <td>Credit card</td>\n",
       "      <td>NaN</td>\n",
       "      <td>Other</td>\n",
       "      <td>NaN</td>\n",
       "      <td>NaN</td>\n",
       "      <td>Company has responded to the consumer and the ...</td>\n",
       "      <td>CITIBANK, N.A.</td>\n",
       "      <td>IL</td>\n",
       "      <td>62025</td>\n",
       "      <td>NaN</td>\n",
       "      <td>NaN</td>\n",
       "      <td>Referral</td>\n",
       "      <td>04/20/2017</td>\n",
       "      <td>Closed with explanation</td>\n",
       "      <td>Yes</td>\n",
       "      <td>No</td>\n",
       "      <td>2441830</td>\n",
       "    </tr>\n",
       "    <tr>\n",
       "      <th>3</th>\n",
       "      <td>04/14/2017</td>\n",
       "      <td>Mortgage</td>\n",
       "      <td>Other mortgage</td>\n",
       "      <td>Loan modification,collection,foreclosure</td>\n",
       "      <td>NaN</td>\n",
       "      <td>NaN</td>\n",
       "      <td>Company believes it acted appropriately as aut...</td>\n",
       "      <td>Shellpoint Partners, LLC</td>\n",
       "      <td>CA</td>\n",
       "      <td>90305</td>\n",
       "      <td>NaN</td>\n",
       "      <td>NaN</td>\n",
       "      <td>Referral</td>\n",
       "      <td>04/14/2017</td>\n",
       "      <td>Closed with explanation</td>\n",
       "      <td>Yes</td>\n",
       "      <td>No</td>\n",
       "      <td>2436165</td>\n",
       "    </tr>\n",
       "    <tr>\n",
       "      <th>4</th>\n",
       "      <td>04/19/2017</td>\n",
       "      <td>Credit card</td>\n",
       "      <td>NaN</td>\n",
       "      <td>Credit determination</td>\n",
       "      <td>NaN</td>\n",
       "      <td>NaN</td>\n",
       "      <td>Company has responded to the consumer and the ...</td>\n",
       "      <td>U.S. BANCORP</td>\n",
       "      <td>LA</td>\n",
       "      <td>70571</td>\n",
       "      <td>NaN</td>\n",
       "      <td>NaN</td>\n",
       "      <td>Postal mail</td>\n",
       "      <td>04/21/2017</td>\n",
       "      <td>Closed with explanation</td>\n",
       "      <td>Yes</td>\n",
       "      <td>No</td>\n",
       "      <td>2441726</td>\n",
       "    </tr>\n",
       "  </tbody>\n",
       "</table>\n",
       "</div>"
      ],
      "text/plain": [
       "  Date received           Product                            Sub-product  \\\n",
       "0    03/21/2017  Credit reporting                                    NaN   \n",
       "1    04/19/2017   Debt collection  Other (i.e. phone, health club, etc.)   \n",
       "2    04/19/2017       Credit card                                    NaN   \n",
       "3    04/14/2017          Mortgage                         Other mortgage   \n",
       "4    04/19/2017       Credit card                                    NaN   \n",
       "\n",
       "                                      Issue  \\\n",
       "0    Incorrect information on credit report   \n",
       "1           Disclosure verification of debt   \n",
       "2                                     Other   \n",
       "3  Loan modification,collection,foreclosure   \n",
       "4                      Credit determination   \n",
       "\n",
       "                                Sub-issue Consumer complaint narrative  \\\n",
       "0                 Information is not mine                          NaN   \n",
       "1  Not disclosed as an attempt to collect                          NaN   \n",
       "2                                     NaN                          NaN   \n",
       "3                                     NaN                          NaN   \n",
       "4                                     NaN                          NaN   \n",
       "\n",
       "                             Company public response  \\\n",
       "0  Company has responded to the consumer and the ...   \n",
       "1                                                NaN   \n",
       "2  Company has responded to the consumer and the ...   \n",
       "3  Company believes it acted appropriately as aut...   \n",
       "4  Company has responded to the consumer and the ...   \n",
       "\n",
       "                         Company State ZIP code            Tags  \\\n",
       "0           EXPERIAN DELAWARE GP    TX    77075  Older American   \n",
       "1  Security Credit Services, LLC    IL    60643             NaN   \n",
       "2                 CITIBANK, N.A.    IL    62025             NaN   \n",
       "3       Shellpoint Partners, LLC    CA    90305             NaN   \n",
       "4                   U.S. BANCORP    LA    70571             NaN   \n",
       "\n",
       "  Consumer consent provided? Submitted via Date sent to company  \\\n",
       "0                        NaN         Phone           03/21/2017   \n",
       "1                        NaN           Web           04/20/2017   \n",
       "2                        NaN      Referral           04/20/2017   \n",
       "3                        NaN      Referral           04/14/2017   \n",
       "4                        NaN   Postal mail           04/21/2017   \n",
       "\n",
       "      Company response to consumer Timely response? Consumer disputed?  \\\n",
       "0  Closed with non-monetary relief              Yes                 No   \n",
       "1          Closed with explanation              Yes                 No   \n",
       "2          Closed with explanation              Yes                 No   \n",
       "3          Closed with explanation              Yes                 No   \n",
       "4          Closed with explanation              Yes                 No   \n",
       "\n",
       "   Complaint ID  \n",
       "0       2397100  \n",
       "1       2441777  \n",
       "2       2441830  \n",
       "3       2436165  \n",
       "4       2441726  "
      ]
     },
     "execution_count": 5,
     "metadata": {},
     "output_type": "execute_result"
    }
   ],
   "source": [
    "#وارد کردن دیتاست شکایات به محیط پایتون\n",
    "Data = pd.read_csv(\"C:\\\\Users\\\\ShahinN\\\\Desktop\\\\Consumer_Complaints.csv\", encoding='latin-1')\n",
    "Data.head()"
   ]
  },
  {
   "cell_type": "code",
   "execution_count": 6,
   "metadata": {},
   "outputs": [
    {
     "name": "stdout",
     "output_type": "stream",
     "text": [
      "<class 'pandas.core.frame.DataFrame'>\n",
      "RangeIndex: 777959 entries, 0 to 777958\n",
      "Data columns (total 18 columns):\n",
      "Date received                   777959 non-null object\n",
      "Product                         777959 non-null object\n",
      "Sub-product                     542822 non-null object\n",
      "Issue                           777959 non-null object\n",
      "Sub-issue                       320986 non-null object\n",
      "Consumer complaint narrative    157865 non-null object\n",
      "Company public response         197884 non-null object\n",
      "Company                         777959 non-null object\n",
      "State                           772056 non-null object\n",
      "ZIP code                        772001 non-null object\n",
      "Tags                            109264 non-null object\n",
      "Consumer consent provided?      288311 non-null object\n",
      "Submitted via                   777959 non-null object\n",
      "Date sent to company            777959 non-null object\n",
      "Company response to consumer    777959 non-null object\n",
      "Timely response?                777959 non-null object\n",
      "Consumer disputed?              768414 non-null object\n",
      "Complaint ID                    777959 non-null int64\n",
      "dtypes: int64(1), object(17)\n",
      "memory usage: 106.8+ MB\n"
     ]
    }
   ],
   "source": [
    "#تحلیل های آماری\n",
    "Data.info()"
   ]
  },
  {
   "cell_type": "code",
   "execution_count": 10,
   "metadata": {},
   "outputs": [],
   "source": [
    "# انتخاب سطرها و ستون های مورد نیاز\n",
    "Data = Data[['Product', 'Consumer complaint narrative']]\n",
    "Data = Data[pd.notnull(Data['Consumer complaint narrative'])]"
   ]
  },
  {
   "cell_type": "code",
   "execution_count": 11,
   "metadata": {},
   "outputs": [
    {
     "data": {
      "text/html": [
       "<div>\n",
       "<style scoped>\n",
       "    .dataframe tbody tr th:only-of-type {\n",
       "        vertical-align: middle;\n",
       "    }\n",
       "\n",
       "    .dataframe tbody tr th {\n",
       "        vertical-align: top;\n",
       "    }\n",
       "\n",
       "    .dataframe thead th {\n",
       "        text-align: right;\n",
       "    }\n",
       "</style>\n",
       "<table border=\"1\" class=\"dataframe\">\n",
       "  <thead>\n",
       "    <tr style=\"text-align: right;\">\n",
       "      <th></th>\n",
       "      <th>Product</th>\n",
       "      <th>Consumer complaint narrative</th>\n",
       "    </tr>\n",
       "  </thead>\n",
       "  <tbody>\n",
       "    <tr>\n",
       "      <th>9</th>\n",
       "      <td>Mortgage</td>\n",
       "      <td>Started the refinance of home mortgage process...</td>\n",
       "    </tr>\n",
       "    <tr>\n",
       "      <th>35</th>\n",
       "      <td>Bank account or service</td>\n",
       "      <td>My wife and I visited the Chase Bank branch at...</td>\n",
       "    </tr>\n",
       "    <tr>\n",
       "      <th>39</th>\n",
       "      <td>Student loan</td>\n",
       "      <td>The service representative was harsh and not l...</td>\n",
       "    </tr>\n",
       "    <tr>\n",
       "      <th>46</th>\n",
       "      <td>Bank account or service</td>\n",
       "      <td>I have documentation that shows that US Bank w...</td>\n",
       "    </tr>\n",
       "    <tr>\n",
       "      <th>54</th>\n",
       "      <td>Credit reporting</td>\n",
       "      <td>Experian reporting of XXXX XXXX reflects a for...</td>\n",
       "    </tr>\n",
       "  </tbody>\n",
       "</table>\n",
       "</div>"
      ],
      "text/plain": [
       "                    Product                       Consumer complaint narrative\n",
       "9                  Mortgage  Started the refinance of home mortgage process...\n",
       "35  Bank account or service  My wife and I visited the Chase Bank branch at...\n",
       "39             Student loan  The service representative was harsh and not l...\n",
       "46  Bank account or service  I have documentation that shows that US Bank w...\n",
       "54         Credit reporting  Experian reporting of XXXX XXXX reflects a for..."
      ]
     },
     "execution_count": 11,
     "metadata": {},
     "output_type": "execute_result"
    }
   ],
   "source": [
    "Data.head()"
   ]
  },
  {
   "cell_type": "code",
   "execution_count": 36,
   "metadata": {},
   "outputs": [
    {
     "data": {
      "text/html": [
       "<div>\n",
       "<style scoped>\n",
       "    .dataframe tbody tr th:only-of-type {\n",
       "        vertical-align: middle;\n",
       "    }\n",
       "\n",
       "    .dataframe tbody tr th {\n",
       "        vertical-align: top;\n",
       "    }\n",
       "\n",
       "    .dataframe thead th {\n",
       "        text-align: right;\n",
       "    }\n",
       "</style>\n",
       "<table border=\"1\" class=\"dataframe\">\n",
       "  <thead>\n",
       "    <tr style=\"text-align: right;\">\n",
       "      <th></th>\n",
       "      <th>Product</th>\n",
       "      <th>Consumer complaint narrative</th>\n",
       "      <th>category_id</th>\n",
       "    </tr>\n",
       "  </thead>\n",
       "  <tbody>\n",
       "    <tr>\n",
       "      <th>9</th>\n",
       "      <td>Mortgage</td>\n",
       "      <td>Started the refinance of home mortgage process...</td>\n",
       "      <td>0</td>\n",
       "    </tr>\n",
       "    <tr>\n",
       "      <th>35</th>\n",
       "      <td>Bank account or service</td>\n",
       "      <td>My wife and I visited the Chase Bank branch at...</td>\n",
       "      <td>1</td>\n",
       "    </tr>\n",
       "    <tr>\n",
       "      <th>39</th>\n",
       "      <td>Student loan</td>\n",
       "      <td>The service representative was harsh and not l...</td>\n",
       "      <td>2</td>\n",
       "    </tr>\n",
       "    <tr>\n",
       "      <th>46</th>\n",
       "      <td>Bank account or service</td>\n",
       "      <td>I have documentation that shows that US Bank w...</td>\n",
       "      <td>1</td>\n",
       "    </tr>\n",
       "    <tr>\n",
       "      <th>54</th>\n",
       "      <td>Credit reporting</td>\n",
       "      <td>Experian reporting of XXXX XXXX reflects a for...</td>\n",
       "      <td>3</td>\n",
       "    </tr>\n",
       "  </tbody>\n",
       "</table>\n",
       "</div>"
      ],
      "text/plain": [
       "                    Product  \\\n",
       "9                  Mortgage   \n",
       "35  Bank account or service   \n",
       "39             Student loan   \n",
       "46  Bank account or service   \n",
       "54         Credit reporting   \n",
       "\n",
       "                         Consumer complaint narrative  category_id  \n",
       "9   Started the refinance of home mortgage process...            0  \n",
       "35  My wife and I visited the Chase Bank branch at...            1  \n",
       "39  The service representative was harsh and not l...            2  \n",
       "46  I have documentation that shows that US Bank w...            1  \n",
       "54  Experian reporting of XXXX XXXX reflects a for...            3  "
      ]
     },
     "execution_count": 36,
     "metadata": {},
     "output_type": "execute_result"
    }
   ],
   "source": [
    "# فاکتورسازی ویژگی محصول\n",
    "Data['category_id'] = Data['Product'].factorize()[0]\n",
    "Data.head()"
   ]
  },
  {
   "cell_type": "code",
   "execution_count": 16,
   "metadata": {},
   "outputs": [
    {
     "data": {
      "text/plain": [
       "Product\n",
       "Bank account or service    14500\n",
       "Consumer Loan               9029\n",
       "Credit card                18276\n",
       "Credit reporting           30319\n",
       "Debt collection            38741\n",
       "Money transfers             1437\n",
       "Mortgage                   32000\n",
       "Other financial service      272\n",
       "Payday loan                 1695\n",
       "Prepaid card                1404\n",
       "Student loan               10176\n",
       "Virtual currency              16\n",
       "Name: Consumer complaint narrative, dtype: int64"
      ]
     },
     "execution_count": 16,
     "metadata": {},
     "output_type": "execute_result"
    }
   ],
   "source": [
    "# بررسی توزیع محصولاتی که مورد شکایت واقع شده اند\n",
    "Data.groupby('Product')['Consumer complaint narrative'].count() #.mean() / .median()"
   ]
  },
  {
   "cell_type": "code",
   "execution_count": 17,
   "metadata": {},
   "outputs": [
    {
     "data": {
      "image/png": "[encoded data removed]",
      "text/plain": [
       "<Figure size 576x432 with 1 Axes>"
      ]
     },
     "metadata": {
      "needs_background": "light"
     },
     "output_type": "display_data"
    }
   ],
   "source": [
    "# رسم نمودار کد بالا\n",
    "fig = plt.figure(figsize=(8,6))\n",
    "Data.groupby('Product')['Consumer complaint narrative'].count().plot.bar(ylim=0)\n",
    "plt.show()"
   ]
  },
  {
   "cell_type": "code",
   "execution_count": 19,
   "metadata": {},
   "outputs": [],
   "source": [
    "#بخش بندی دیتا\n",
    "train_x, valid_x, train_y, valid_y = model_selection.train_test_split(Data['Consumer complaint narrative'], Data['Product'])"
   ]
  },
  {
   "cell_type": "code",
   "execution_count": 21,
   "metadata": {},
   "outputs": [],
   "source": [
    "# مهندسی ویژگی با استفاده از بردار TF-IDF (با تولید حداکثر 5000 ویژگی)\n",
    "encoder = preprocessing.LabelEncoder()\n",
    "train_y = encoder.fit_transform(train_y)\n",
    "valid_y = encoder.fit_transform(valid_y)\n",
    "tfidf_vect = TfidfVectorizer(analyzer='word', token_pattern=r'\\w{1,}', max_features=5000)\n",
    "tfidf_vect.fit(Data['Consumer complaint narrative'])\n",
    "xtrain_tfidf = tfidf_vect.transform(train_x)\n",
    "xvalid_tfidf = tfidf_vect.transform(valid_x)"
   ]
  },
  {
   "cell_type": "code",
   "execution_count": 22,
   "metadata": {},
   "outputs": [
    {
     "name": "stderr",
     "output_type": "stream",
     "text": [
      "C:\\Users\\ShahinN\\Anaconda3\\lib\\site-packages\\sklearn\\linear_model\\logistic.py:432: FutureWarning: Default solver will be changed to 'lbfgs' in 0.22. Specify a solver to silence this warning.\n",
      "  FutureWarning)\n",
      "C:\\Users\\ShahinN\\Anaconda3\\lib\\site-packages\\sklearn\\linear_model\\logistic.py:469: FutureWarning: Default multi_class will be changed to 'auto' in 0.22. Specify the multi_class option to silence this warning.\n",
      "  \"this warning.\", FutureWarning)\n"
     ]
    }
   ],
   "source": [
    "# ساخت مدل یادگیری ماشین\n",
    "model = linear_model.LogisticRegression().fit(xtrain_tfidf, train_y)"
   ]
  },
  {
   "cell_type": "code",
   "execution_count": 25,
   "metadata": {},
   "outputs": [
    {
     "data": {
      "text/plain": [
       "LogisticRegression(C=1.0, class_weight=None, dual=False, fit_intercept=True,\n",
       "                   intercept_scaling=1, l1_ratio=None, max_iter=100,\n",
       "                   multi_class='ovr', n_jobs=1, penalty='l2', random_state=None,\n",
       "                   solver='liblinear', tol=0.0001, verbose=0, warm_start=False)"
      ]
     },
     "execution_count": 25,
     "metadata": {},
     "output_type": "execute_result"
    }
   ],
   "source": [
    "# ارزیابی مدل\n",
    "LogisticRegression(C=1.0, class_weight=None, dual=False, fit_intercept=True,intercept_scaling=1, max_iter=100, multi_class='ovr',\n",
    "                   n_jobs=1, penalty='l2', random_state=None, solver='liblinear', tol=0.0001, verbose=0, warm_start=False)\n",
    "                 \n",
    "                   \n",
    "                   \n",
    "                   "
   ]
  },
  {
   "cell_type": "code",
   "execution_count": 26,
   "metadata": {},
   "outputs": [
    {
     "name": "stdout",
     "output_type": "stream",
     "text": [
      "Accuracy:  0.8527884055033319\n"
     ]
    }
   ],
   "source": [
    "# چک کردن دقت یادگیری\n",
    "accuracy = metrics.accuracy_score(model.predict(xvalid_tfidf), valid_y)\n",
    "\n",
    "print (\"Accuracy: \", accuracy)"
   ]
  },
  {
   "cell_type": "code",
   "execution_count": 28,
   "metadata": {},
   "outputs": [
    {
     "name": "stdout",
     "output_type": "stream",
     "text": [
      "                         precision    recall  f1-score   support\n",
      "\n",
      "               Mortgage       0.83      0.82      0.82      3671\n",
      "Bank account or service       0.79      0.60      0.69      2239\n",
      "           Student loan       0.81      0.82      0.81      4625\n",
      "       Credit reporting       0.87      0.86      0.87      7618\n",
      "            Credit card       0.82      0.89      0.85      9763\n",
      "        Debt collection       0.78      0.54      0.64       361\n",
      "          Consumer Loan       0.92      0.95      0.94      7896\n",
      "Other financial service       0.00      0.00      0.00        55\n",
      "        Money transfers       0.75      0.34      0.47       437\n",
      "           Prepaid card       0.85      0.54      0.66       348\n",
      "            Payday loan       0.92      0.87      0.89      2448\n",
      "       Virtual currency       0.00      0.00      0.00         6\n",
      "\n",
      "               accuracy                           0.85     39467\n",
      "              macro avg       0.69      0.60      0.64     39467\n",
      "           weighted avg       0.85      0.85      0.85     39467\n",
      "\n"
     ]
    },
    {
     "name": "stderr",
     "output_type": "stream",
     "text": [
      "C:\\Users\\ShahinN\\Anaconda3\\lib\\site-packages\\sklearn\\metrics\\classification.py:1437: UndefinedMetricWarning: Precision and F-score are ill-defined and being set to 0.0 in labels with no predicted samples.\n",
      "  'precision', 'predicted', average, warn_for)\n"
     ]
    }
   ],
   "source": [
    "# Classification report\n",
    "print(metrics.classification_report(valid_y, model.predict(xvalid_tfidf),target_names=Data['Product'].unique()))\n"
   ]
  },
  {
   "cell_type": "code",
   "execution_count": 32,
   "metadata": {},
   "outputs": [
    {
     "data": {
      "text/plain": [
       "array([[3001,   25,  288,   66,   92,   36,  128,    0,    1,   30,    4,\n",
       "           0],\n",
       "       [  57, 1349,  149,  139,  353,    0,  136,    0,   19,    0,   37,\n",
       "           0],\n",
       "       [ 196,   34, 3811,  203,  320,    6,   48,    0,    0,    4,    3,\n",
       "           0],\n",
       "       [  26,   55,  145, 6586,  670,    0,  103,    0,    0,    0,   33,\n",
       "           0],\n",
       "       [  60,  111,  186,  379, 8707,    1,  198,    0,   30,    0,   91,\n",
       "           0],\n",
       "       [ 111,    4,   14,    3,   23,  195,   11,    0,    0,    0,    0,\n",
       "           0],\n",
       "       [  61,   26,   34,  101,  121,    1, 7540,    0,    0,    0,   12,\n",
       "           0],\n",
       "       [  14,    1,    4,    6,   15,    6,    3,    0,    0,    0,    6,\n",
       "           0],\n",
       "       [  25,   67,    9,   14,  146,    1,   15,    0,  150,    0,   10,\n",
       "           0],\n",
       "       [  61,    1,   76,    5,   10,    5,    3,    0,    0,  187,    0,\n",
       "           0],\n",
       "       [   8,   24,   15,   45,  184,    0,   41,    0,    0,    0, 2131,\n",
       "           0],\n",
       "       [   4,    0,    1,    0,    1,    0,    0,    0,    0,    0,    0,\n",
       "           0]], dtype=int64)"
      ]
     },
     "execution_count": 32,
     "metadata": {},
     "output_type": "execute_result"
    }
   ],
   "source": [
    "#confusion matrix\n",
    "from sklearn.metrics import confusion_matrix\n",
    "conf_mat = confusion_matrix(valid_y, model.predict(xvalid_tfidf))\n",
    "conf_mat"
   ]
  },
  {
   "cell_type": "code",
   "execution_count": 37,
   "metadata": {},
   "outputs": [
    {
     "data": {
      "image/png": "[encoded data removed]",
      "text/plain": [
       "<Figure size 576x432 with 2 Axes>"
      ]
     },
     "metadata": {
      "needs_background": "light"
     },
     "output_type": "display_data"
    }
   ],
   "source": [
    "#مصور سازی CONFUSION MATRIX\n",
    "category_id_df = Data[['Product', 'category_id']].drop_duplicates().sort_values('category_id')\n",
    "category_to_id = dict(category_id_df.values)\n",
    "id_to_category = dict(category_id_df[['category_id', 'Product']].values)\n",
    "\n",
    "fig, ax = plt.subplots(figsize=(8,6))\n",
    "sns.heatmap(conf_mat, annot=True, fmt='d',\n",
    "            cmap=\"BuPu\",\n",
    "            xticklabels=category_id_df[['Product']].values,\n",
    "            yticklabels=category_id_df[['Product']].values)\n",
    "\n",
    "\n",
    "plt.ylabel('Actual')\n",
    "plt.xlabel('Predicted')\n",
    "plt.show()\n",
    "\n"
   ]
  },
  {
   "cell_type": "code",
   "execution_count": 42,
   "metadata": {},
   "outputs": [
    {
     "name": "stdout",
     "output_type": "stream",
     "text": [
      "['how much I have to wait to transfer money?']\n",
      " - Predicted as: 'Debt collection'\n"
     ]
    }
   ],
   "source": [
    "# مثال پیش بینی\n",
    "texts = [\"how much I have to wait to transfer money? This is really bad\"]\n",
    "         \n",
    "text_features = tfidf_vect.transform(texts)\n",
    "\n",
    "predictions = model.predict(text_features)\n",
    "\n",
    "print(texts)\n",
    "\n",
    "print(\" - Predicted as: '{}'\".format(id_to_category[predictions[0]]))\n"
   ]
  },
  {
   "cell_type": "code",
   "execution_count": null,
   "metadata": {},
   "outputs": [],
   "source": []
  }
 ],
 "metadata": {
  "kernelspec": {
   "display_name": "Python 3",
   "language": "python",
   "name": "python3"
  },
  "language_info": {
   "codemirror_mode": {
    "name": "ipython",
    "version": 3
   },
   "file_extension": ".py",
   "mimetype": "text/x-python",
   "name": "python",
   "nbconvert_exporter": "python",
   "pygments_lexer": "ipython3",
   "version": "3.7.3"
  }
 },
 "nbformat": 4,
 "nbformat_minor": 2
}
