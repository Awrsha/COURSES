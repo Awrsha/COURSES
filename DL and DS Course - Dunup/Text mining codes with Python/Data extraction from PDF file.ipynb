{
 "cells": [
  {
   "cell_type": "code",
   "execution_count": 1,
   "metadata": {},
   "outputs": [],
   "source": [
    "#pip install PyPDF2   #نصب فایل  PDF\n",
    "import PyPDF2\n",
    "from PyPDF2 import PdfFileReader"
   ]
  },
  {
   "cell_type": "markdown",
   "metadata": {},
   "source": [
    "## استخراج داده از فایل PDF"
   ]
  },
  {
   "cell_type": "code",
   "execution_count": 2,
   "metadata": {},
   "outputs": [],
   "source": [
    "#  PDF ساخت مسیر یک فایل\n",
    "pdf = open(\"C:\\\\Users\\\\ShahinN\\\\Desktop\\\\cho2003.pdf\",\"rb\")"
   ]
  },
  {
   "cell_type": "code",
   "execution_count": 3,
   "metadata": {},
   "outputs": [
    {
     "name": "stderr",
     "output_type": "stream",
     "text": [
      "PdfReadWarning: Xref table not zero-indexed. ID numbers for objects will be corrected. [pdf.py:1736]\n"
     ]
    }
   ],
   "source": [
    "#خواندن فایل\n",
    "pdf_reader = PyPDF2.PdfFileReader(pdf)"
   ]
  },
  {
   "cell_type": "code",
   "execution_count": 4,
   "metadata": {},
   "outputs": [
    {
     "name": "stdout",
     "output_type": "stream",
     "text": [
      "10\n"
     ]
    }
   ],
   "source": [
    "#چک کردن تعداد صفحات فایل PDF\n",
    "print(pdf_reader.numPages)"
   ]
  },
  {
   "cell_type": "code",
   "execution_count": 5,
   "metadata": {},
   "outputs": [],
   "source": [
    "#ساخت صفحه\n",
    "page = pdf_reader.getPage(0)"
   ]
  },
  {
   "cell_type": "code",
   "execution_count": 6,
   "metadata": {},
   "outputs": [
    {
     "name": "stdout",
     "output_type": "stream",
     "text": [
      "Dataminingforselection\n",
      "ofinsurancesalesagents\n",
      "VincentChoand\n",
      "EricW.T.Ngai\n",
      "DepartmentofManagement,TheHongKong\n",
      "PolytechnicUniversity,HongKong,SAR,China\n",
      "\n",
      "E-mail:{msvcho,mswtngai}@polyu.edu.hk\n",
      "Abstract:\n",
      "TheinsuranceindustryofHongKonghasbeen\n",
      "experiencingsteadygrowthinthelastdecade.Oneofthecurrent\n",
      "\n",
      "problemsintheindustryisthat,ingeneral,insuranceagent\n",
      "turnoverishigh.Theselectionofnewagentsistreatedasaregular\n",
      "recruitmentexercise.Thisstudyfocusesonthecharacteristicsof\n",
      "\n",
      "datawarehousingandtheappropriatedataminingtechniquesthat\n",
      "\n",
      "canbeusedtosupportagentselectionintheinsuranceindustry.\n",
      "Weexaminetheapplicationofthreepopulardataminingmethods\n",
      "–discriminantanalysis,decisiontreesandartiﬁcialneural\n",
      "\n",
      "networks–incorporatedwithadatawarehousetothepredictionof\n",
      "thelengthofservice,salespremiumsandpersistenceindicesof\n",
      "insuranceagents.Anintelligentdecisionsupportsystem,namely\n",
      "\n",
      "IntelligentAgentSelectionAssistantforInsurance,ispresented,\n",
      "whichwillhelpinsurancemanagerstoselectqualityagentsby\n",
      "usingdatamininginadatawarehouseenvironment.\n",
      "Keywords:\n",
      "intelligentdecisionsupportsystems,datamining\n",
      "1.Introduction\n",
      "Businessesarerecognizingthevalueofdataasastrategic\n",
      "asset.Thisisreﬂectedbythehighdegreeofinterestinnew\n",
      "\n",
      "technologiessuchasdatawarehousing.Corporationsin\n",
      "\n",
      "banking,insurance,retailandhealthcareareharnessing\n",
      "aggregatedoperationaldatatohelpunderstandandrun\n",
      "theirbusiness(Brockett\n",
      "etal\n",
      ".,1997;Delmater&Hancock,\n",
      "2001).Datafromthedifferentoperationsofacorporation\n",
      "\n",
      "arereconciledandstoredinacentralrepositorycommonly\n",
      "\n",
      "calledadatawarehouse.Analystsusethedatawarehouse\n",
      "\n",
      "toextractbusinessinformationthatenablesbetter\n",
      "\n",
      "decision-making(Cho\n",
      "etal\n",
      ".,1998;Cho&Wu\n",
      "¨thrich,\n",
      "2002).Thisinteractivedecisionsupportprocessiscalled\n",
      "OLAP,whichstandsforonlineanalyticalprocessing.\n",
      "OLAPfocusesontheanalysisoflargevolumesofdatain\n",
      "waysthatdirectlyaddressthedecision-makingprocess.\n",
      "Traditionally,regularreportsarecompiledandprinted\n",
      "afterofﬁcehours.Thisreleasestheburdenofhandling\n",
      "dailytransactions.Moreover,thestructureofatraditional\n",
      "\n",
      "databaseislargelytailoredfordailyoperations.Reporting\n",
      "\n",
      "proceduresandcomplicated\n",
      "adhoc\n",
      "enquiriesfromsenior\n",
      "management,suchascross-tabulation,usuallyrequirethe\n",
      "\n",
      "retrievalandmergingofhistoricaltransactionrecords.This\n",
      "\n",
      "processdisturbsnormaldailyoperations,especiallyfor\n",
      "\n",
      "operationallyintensebusinessessuchasbanks,insurance\n",
      "companiesandairlines.Thus,itisunfeasibletomake\n",
      "adhoc\n",
      "enquiriesonline.Delaysuntilafterofﬁcehours\n",
      "arenecessary,whichhindersmanagerswhoneedtomake\n",
      "\n",
      "instantdecisions,andhencereducesﬁrmperformance.To\n",
      "\n",
      "easethesedifﬁculties,inthearchitectureofadata\n",
      "\n",
      "warehousesomecommonstatisticssuchassalessummaries\n",
      "\n",
      "acrossdifferentregions,differentproductcategories\n",
      "\n",
      "anddifferentcustomersegmentsareupdatedwhena\n",
      "transactionisrecorded.Thesecommonstatisticsrepresent\n",
      "themultidimensionalviewofthedatawarehouseand\n",
      "\n",
      "allowanalysistobeundertakenonlinewithlessinterrup-\n",
      "\n",
      "tiontodailytransactionaloperations.This,beinganew\n",
      "\n",
      "moveininformationmanagement,istheﬁrststeptowards\n",
      "\n",
      "OLAP.\n",
      "Theanalysisofthemultidimensionalstructureof\n",
      "datawarehousesposesnewchallenges.Besidesstatistical\n",
      "summariesfromdifferentviewsofdata,datamining\n",
      "techniquesshouldbeappliedinconjunctionwithOLAPto\n",
      "\n",
      "formanintegratedbusinesssolution.Amongforthcoming\n",
      "\n",
      "evolutionsinthisdomain,dataminingisexpectedtobethe\n",
      "\n",
      "mostimportant.However,currentdataminingtechniques\n",
      "\n",
      "arenotmuchconnectedwithexistingOLAPtools.\n",
      "\n",
      "Moreover,mostdataminingtechniques,suchasC4.5,\n",
      "\n",
      "CN2andITRules,arestand-alonesoftwarewithmany\n",
      "controlparameters.Theinterfacestothesetoolsarenot\n",
      "user-friendlyandrequireexpertstodrivethem.Ofallsuch\n",
      "\n",
      "problems,themostsigniﬁcantisthatthetechniquesare\n",
      "\n",
      "usuallyappliedtotraditionaldatabases.Onechallengeisto\n",
      "\n",
      "conductresearchintocurrentdataminingtechniquesto\n",
      "\n",
      "ascertainhowtheycansuitthenewmultidimensional\n",
      "\n",
      "structurethathasbeenadoptedinthearchitectureof\n",
      "\n",
      "datawarehouses.Anotherchallengeishowtodesign\n",
      "aneffectiveinterfaceforseniorexecutivestousesuch\n",
      "sophisticatedtechniques.Themaingoalofthispaperisto\n",
      "\n",
      "designanddevelopanintelligentdecisionsupportsystem,\n",
      "\n",
      "namelyIntelligentAgentSelectionAssistantforInsurance\n",
      "\n",
      "(IASAI),usingdataminingtechniquesforamultidimen-\n",
      "\n",
      "sionaldatawarehousetosupportagentselectioninthe\n",
      "\n",
      "insuranceindustry.\n",
      "Article____________________________________________ExpertSystems,July2003,Vol.20\n",
      ",No.3\n",
      "______________________________________________________________________\n",
      "123\n"
     ]
    }
   ],
   "source": [
    "#در نهایت استخراج متن از صفحه مورد نظر\n",
    "print(page.extractText())"
   ]
  },
  {
   "cell_type": "code",
   "execution_count": 7,
   "metadata": {},
   "outputs": [],
   "source": [
    "#بستن فایل\n",
    "pdf.close()"
   ]
  },
  {
   "cell_type": "code",
   "execution_count": null,
   "metadata": {},
   "outputs": [],
   "source": []
  }
 ],
 "metadata": {
  "kernelspec": {
   "display_name": "Python 3",
   "language": "python",
   "name": "python3"
  },
  "language_info": {
   "codemirror_mode": {
    "name": "ipython",
    "version": 3
   },
   "file_extension": ".py",
   "mimetype": "text/x-python",
   "name": "python",
   "nbconvert_exporter": "python",
   "pygments_lexer": "ipython3",
   "version": "3.7.3"
  }
 },
 "nbformat": 4,
 "nbformat_minor": 2
}
