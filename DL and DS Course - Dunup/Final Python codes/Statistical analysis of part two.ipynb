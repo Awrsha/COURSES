{
 "cells": [
  {
   "cell_type": "markdown",
   "metadata": {},
   "source": [
    "### آزمون های فرصیه ( آزمون های میانگین)"
   ]
  },
  {
   "cell_type": "code",
   "execution_count": 10,
   "metadata": {},
   "outputs": [
    {
     "name": "stdout",
     "output_type": "stream",
     "text": [
      "data1: mean=49.599 stdv=5.101\n",
      "data2: mean=51.286 stdv=4.170\n"
     ]
    }
   ],
   "source": [
    "# تولید دیتای تصادفی\n",
    "from numpy.random import seed\n",
    "from numpy.random import randn\n",
    "from numpy import mean\n",
    "from numpy import std\n",
    "# برای تولید دیتای تصادفی\n",
    "seed(1)\n",
    "# تولید دو دسته از مشاهدات تک متغیره\n",
    "data1 = 5 * randn(29) + 50\n",
    "data2 = 5 * randn(29) + 51\n",
    "# خلاصه سازی\n",
    "print('data1: mean=%.3f stdv=%.3f' % (mean(data1), std(data1)))\n",
    "print('data2: mean=%.3f stdv=%.3f' % (mean(data2), std(data2)))"
   ]
  },
  {
   "cell_type": "markdown",
   "metadata": {},
   "source": [
    "# 1. آزمون استودنت تی - تست"
   ]
  },
  {
   "cell_type": "code",
   "execution_count": 18,
   "metadata": {},
   "outputs": [
    {
     "name": "stdout",
     "output_type": "stream",
     "text": [
      "Statistics=-1.355, p=0.181\n",
      "دارای توزیع مشابه (عدم رد فرضیه اولیه)\n"
     ]
    }
   ],
   "source": [
    "# آزمون تی تست\n",
    "from numpy.random import seed\n",
    "from numpy.random import randn\n",
    "from scipy.stats import ttest_ind\n",
    "# برای تولید دیتای تصادفی\n",
    "seed(1)\n",
    "#مشاهدات تک متغیره  تولید \n",
    "data1 = 5 * randn(29) + 50\n",
    "data2 = 5 * randn(29) + 51\n",
    "# مقایسه مشاهدات\n",
    "stat, p = ttest_ind(data1, data2)\n",
    "print('Statistics=%.3f, p=%.3f' % (stat, p))\n",
    "# تفسیر\n",
    "alpha = 0.05\n",
    "if p > alpha:\n",
    "    print('دارای توزیع مشابه (عدم رد فرضیه اولیه)')\n",
    "else:\n",
    "    print('دارای توزیع متفاوت (رد فرضیه اولیه)')"
   ]
  },
  {
   "cell_type": "markdown",
   "metadata": {},
   "source": [
    "### آزمون زوجی استودنت تی تست"
   ]
  },
  {
   "cell_type": "code",
   "execution_count": 9,
   "metadata": {},
   "outputs": [
    {
     "name": "stdout",
     "output_type": "stream",
     "text": [
      "Statistics=-1.520, p=0.140\n",
      "دارای توزیع مشابه (عدم رد فرضیه اولیه)\n"
     ]
    }
   ],
   "source": [
    "# آزمون زوجی تی تست\n",
    "from numpy.random import seed\n",
    "from numpy.random import randn\n",
    "from scipy.stats import ttest_rel\n",
    "# برای تولید دیتای تصادفی\n",
    "seed(1)\n",
    "# تولید دو نمونه مستقل\n",
    "data1 = 5 * randn(29) + 50\n",
    "data2 = 5 * randn(29) + 51\n",
    "#مشاهدات تک متغیره  تولید \n",
    "stat, p = ttest_rel(data1, data2)\n",
    "print('Statistics=%.3f, p=%.3f' % (stat, p))\n",
    "# تفسیر\n",
    "alpha = 0.05\n",
    "if p > alpha:\n",
    "    print('دارای توزیع مشابه (عدم رد فرضیه اولیه)')\n",
    "else:\n",
    "    print('دارای توزیع متفاوت (رد فرضیه اولیه)')"
   ]
  },
  {
   "cell_type": "code",
   "execution_count": 11,
   "metadata": {},
   "outputs": [
    {
     "name": "stdout",
     "output_type": "stream",
     "text": [
      "Statistics=10.035, p=0.000\n",
      "دارای توزیع متفاوت (رد فرضیه اولیه)\n"
     ]
    }
   ],
   "source": [
    "# Anova یک طرفه\n",
    "from numpy.random import seed\n",
    "from numpy.random import randn\n",
    "from scipy.stats import f_oneway\n",
    "# برای تولید دیتای تصادفی\n",
    "seed(1)\n",
    "# تولید سه نمونه مستقل\n",
    "data1 = 5 * randn(100) + 50\n",
    "data2 = 5 * randn(100) + 52\n",
    "data3 = 5 * randn(100) + 50\n",
    "#مشاهدات تک متغیره  تولید \n",
    "stat, p = f_oneway(data1, data2, data3)\n",
    "print('Statistics=%.3f, p=%.3f' % (stat, p))\n",
    "# تفسیر\n",
    "alpha = 0.05\n",
    "if p > alpha:\n",
    "    print('دارای توزیع مشابه (عدم رد فرضیه اولیه)')\n",
    "else:\n",
    "    print('دارای توزیع متفاوت (رد فرضیه اولیه)')"
   ]
  },
  {
   "cell_type": "markdown",
   "metadata": {},
   "source": [
    "# آزمون های توزیع نرمال"
   ]
  },
  {
   "cell_type": "markdown",
   "metadata": {},
   "source": [
    "توزیع نرمال = آزمون های پارامتری\n",
    "\n",
    "\n",
    "آزمون های ناپارامتری = توزیع غیر نرمال"
   ]
  },
  {
   "cell_type": "code",
   "execution_count": 12,
   "metadata": {},
   "outputs": [
    {
     "name": "stdout",
     "output_type": "stream",
     "text": [
      "mean=50.303 stdv=4.426\n"
     ]
    }
   ],
   "source": [
    "# تولید دیتای نرمال\n",
    "from numpy.random import seed\n",
    "from numpy.random import randn\n",
    "from numpy import mean\n",
    "from numpy import std\n",
    "# برای تولید دیتای تصادفی\n",
    "seed(1)\n",
    "# تولید مشاهدات تک متغیره\n",
    "data = 5 * randn(100) + 50\n",
    "# خلاصه سازی\n",
    "print('mean=%.3f stdv=%.3f' % (mean(data), std(data)))"
   ]
  },
  {
   "cell_type": "markdown",
   "metadata": {},
   "source": [
    "بررسی نرمال بودن با رسم نمودار"
   ]
  },
  {
   "cell_type": "code",
   "execution_count": 14,
   "metadata": {},
   "outputs": [
    {
     "data": {
      "image/png": "[encoded data removed]",
      "text/plain": [
       "<Figure size 432x288 with 1 Axes>"
      ]
     },
     "metadata": {
      "needs_background": "light"
     },
     "output_type": "display_data"
    }
   ],
   "source": [
    "# نمودار هیستوگرام\n",
    "from numpy.random import seed\n",
    "from numpy.random import randn\n",
    "from matplotlib import pyplot\n",
    "# تولید دیتای تصادفی\n",
    "seed(1)\n",
    "# تولید مشاهدات تک متغیره\n",
    "data = 5 * randn(100) + 50\n",
    "# رسم نمودار\n",
    "pyplot.hist(data)\n",
    "pyplot.show()"
   ]
  },
  {
   "cell_type": "code",
   "execution_count": 16,
   "metadata": {},
   "outputs": [
    {
     "data": {
      "image/png": "[encoded data removed]",
      "text/plain": [
       "<Figure size 432x288 with 1 Axes>"
      ]
     },
     "metadata": {
      "needs_background": "light"
     },
     "output_type": "display_data"
    }
   ],
   "source": [
    "# Quantile-Quantile Plot (QQ plot)\n",
    "# q-q plot\n",
    "from numpy.random import seed\n",
    "from numpy.random import randn\n",
    "from statsmodels.graphics.gofplots import qqplot\n",
    "from matplotlib import pyplot\n",
    "\n",
    "seed(1)\n",
    "\n",
    "data = 5 * randn(100) + 50\n",
    "# q-q plot\n",
    "qqplot(data, line='s')\n",
    "pyplot.show()"
   ]
  },
  {
   "cell_type": "markdown",
   "metadata": {},
   "source": [
    "آزمون های آماری نرمال بودن"
   ]
  },
  {
   "cell_type": "code",
   "execution_count": 19,
   "metadata": {},
   "outputs": [
    {
     "name": "stdout",
     "output_type": "stream",
     "text": [
      "Statistics=0.992, p=0.822\n",
      "نمونه دارای توزیع نرمال است (عدم رد فرض اولیه)\n"
     ]
    }
   ],
   "source": [
    "#Shapiro-Wilk Test\n",
    "# مثال\n",
    "from numpy.random import seed\n",
    "from numpy.random import randn\n",
    "from scipy.stats import shapiro\n",
    "# تولید دیتای تصادفی\n",
    "seed(1)\n",
    "# تولید مشاهدات تک متغیره\n",
    "data = 5 * randn(100) + 50\n",
    "# آزمون نرمال بودن\n",
    "stat, p = shapiro(data)\n",
    "print('Statistics=%.3f, p=%.3f' % (stat, p))\n",
    "# interpret\n",
    "alpha = 0.05\n",
    "if p > alpha:\n",
    "    print('نمونه دارای توزیع نرمال است (عدم رد فرض اولیه)')\n",
    "else:\n",
    "    print('نمونه دارای توزیع نرمال نیست ( رد فرض اولیه)')"
   ]
  },
  {
   "cell_type": "code",
   "execution_count": 20,
   "metadata": {},
   "outputs": [
    {
     "name": "stdout",
     "output_type": "stream",
     "text": [
      "Statistics=0.102, p=0.950\n",
      "نمونه دارای توزیع نرمال است (عدم رد فرض اولیه)\n"
     ]
    }
   ],
   "source": [
    "#D'Agostino's K2 Test\n",
    "\n",
    "from numpy.random import seed\n",
    "from numpy.random import randn\n",
    "from scipy.stats import normaltest\n",
    "\n",
    "seed(1)\n",
    "\n",
    "data = 5 * randn(100) + 50\n",
    "# آزمون نرمال بودن\n",
    "stat, p = normaltest(data)\n",
    "print('Statistics=%.3f, p=%.3f' % (stat, p))\n",
    "# تحلیل آزمون\n",
    "alpha = 0.05\n",
    "if p > alpha:\n",
    "     print('نمونه دارای توزیع نرمال است (عدم رد فرض اولیه)')\n",
    "else:\n",
    "     print('نمونه دارای توزیع نرمال نیست ( رد فرض اولیه)')"
   ]
  },
  {
   "cell_type": "markdown",
   "metadata": {},
   "source": [
    "### آزمون های ناپارامتری\n"
   ]
  },
  {
   "cell_type": "markdown",
   "metadata": {},
   "source": [
    "1. آزمون من ویتنی - یو"
   ]
  },
  {
   "cell_type": "markdown",
   "metadata": {},
   "source": [
    "از آزمون من ویتنی برای مقایسه استقلال دیتای نمونه استفاده میشود.\n",
    "ورژن ناپارامتریک تی تست استودنت"
   ]
  },
  {
   "cell_type": "code",
   "execution_count": 22,
   "metadata": {},
   "outputs": [
    {
     "name": "stdout",
     "output_type": "stream",
     "text": [
      "Statistics=4077.000, p=0.012\n",
      "دارای توزیع متفاوت ( رد فرضیه اولیه)\n"
     ]
    }
   ],
   "source": [
    "# مثال\n",
    "from numpy.random import seed\n",
    "from numpy.random import rand\n",
    "from scipy.stats import mannwhitneyu\n",
    "# تولید دیتای تصادفی\n",
    "seed(1)\n",
    "# تولید دو نمونه مستقل\n",
    "data1 = 50 + (rand(100) * 10)\n",
    "data2 = 51 + (rand(100) * 10)\n",
    "# مقایسه مشاهدات\n",
    "stat, p = mannwhitneyu(data1, data2)\n",
    "print('Statistics=%.3f, p=%.3f' % (stat, p))\n",
    "# تحلیل آزمون\n",
    "alpha = 0.05\n",
    "if p > alpha:\n",
    "    print('دارای توزیع مشابه (عدم رد فرضیه اولیه)')\n",
    "else:\n",
    "    print('دارای توزیع متفاوت ( رد فرضیه اولیه)')"
   ]
  },
  {
   "cell_type": "markdown",
   "metadata": {},
   "source": [
    "2. آزمون رتبه ای ویل کاکسون \n",
    "\n",
    "از این آزمون برای مقایسه دیتای دو متغیر استفاده میشود\n",
    " ورژن ناپارامتریک آزمون زوجی تی تست استودنت.\n"
   ]
  },
  {
   "cell_type": "code",
   "execution_count": 23,
   "metadata": {},
   "outputs": [
    {
     "name": "stdout",
     "output_type": "stream",
     "text": [
      "Statistics=1937.000, p=0.043\n",
      "دارای توزیع متفاوت ( رد فرضیه اولیه)\n"
     ]
    }
   ],
   "source": [
    "\n",
    "from numpy.random import seed\n",
    "from numpy.random import rand\n",
    "from scipy.stats import wilcoxon\n",
    "\n",
    "seed(1)\n",
    "\n",
    "data1 = 50 + (rand(100) * 10)\n",
    "data2 = 51 + (rand(100) * 10)\n",
    "# مقایسه نمونه ها\n",
    "stat, p = wilcoxon(data1, data2)\n",
    "print('Statistics=%.3f, p=%.3f' % (stat, p))\n",
    "# تحلیل  آزمون\n",
    "alpha = 0.05\n",
    "if p > alpha:\n",
    "    print('دارای توزیع مشابه (عدم رد فرضیه اولیه)')\n",
    "else:\n",
    "    print('دارای توزیع متفاوت ( رد فرضیه اولیه)')"
   ]
  },
  {
   "cell_type": "markdown",
   "metadata": {},
   "source": [
    "3. آزمون کروسکال والیس"
   ]
  },
  {
   "cell_type": "code",
   "execution_count": 38,
   "metadata": {
    "scrolled": true
   },
   "outputs": [
    {
     "name": "stdout",
     "output_type": "stream",
     "text": [
      "Statistics=34.747, p=0.000\n",
      "دارای توزیع متفاوت ( رد فرضیه اولیه)\n"
     ]
    }
   ],
   "source": [
    "from numpy.random import seed\n",
    "from numpy.random import rand\n",
    "from scipy.stats import kruskal\n",
    "\n",
    "seed(1)\n",
    "\n",
    "data1 = 50 + (rand(100) * 10)\n",
    "data2 = 51 + (rand(100) * 10)\n",
    "data3 = 52 + (rand(100) * 10)\n",
    "# مقایسه نمونه ها\n",
    "stat, p = kruskal(data1, data2, data3)\n",
    "print('Statistics=%.3f, p=%.3f' % (stat, p))\n",
    "# تحلیل  آزمون\n",
    "alpha = 0.05\n",
    "if p > alpha:\n",
    "    print('دارای توزیع مشابه (عدم رد فرضیه اولیه)')\n",
    "else:\n",
    "    print('دارای توزیع متفاوت ( رد فرضیه اولیه)')"
   ]
  },
  {
   "cell_type": "markdown",
   "metadata": {},
   "source": [
    "# نمونه گیری"
   ]
  },
  {
   "cell_type": "code",
   "execution_count": 28,
   "metadata": {},
   "outputs": [
    {
     "data": {
      "text/plain": [
       "Index(['Target', 'Email'], dtype='object')"
      ]
     },
     "execution_count": 28,
     "metadata": {},
     "output_type": "execute_result"
    }
   ],
   "source": [
    "#خواندن دیتا\n",
    "import pandas as pd\n",
    "Email_Data = pd.read_csv(\"C:\\\\Users\\\\ShahinN\\\\Desktop\\\\SMSSpamCollection.txt\", sep= '\\t', header=None, names=[\"Target\", \"Email\"])\n",
    "\n",
    "Email_Data.columns\n"
   ]
  },
  {
   "cell_type": "code",
   "execution_count": 29,
   "metadata": {
    "scrolled": true
   },
   "outputs": [
    {
     "data": {
      "text/html": [
       "<div>\n",
       "<style scoped>\n",
       "    .dataframe tbody tr th:only-of-type {\n",
       "        vertical-align: middle;\n",
       "    }\n",
       "\n",
       "    .dataframe tbody tr th {\n",
       "        vertical-align: top;\n",
       "    }\n",
       "\n",
       "    .dataframe thead th {\n",
       "        text-align: right;\n",
       "    }\n",
       "</style>\n",
       "<table border=\"1\" class=\"dataframe\">\n",
       "  <thead>\n",
       "    <tr style=\"text-align: right;\">\n",
       "      <th></th>\n",
       "      <th>Target</th>\n",
       "      <th>Email</th>\n",
       "    </tr>\n",
       "  </thead>\n",
       "  <tbody>\n",
       "    <tr>\n",
       "      <th>0</th>\n",
       "      <td>ham</td>\n",
       "      <td>Go until jurong point, crazy.. Available only ...</td>\n",
       "    </tr>\n",
       "    <tr>\n",
       "      <th>1</th>\n",
       "      <td>ham</td>\n",
       "      <td>Ok lar... Joking wif u oni...</td>\n",
       "    </tr>\n",
       "    <tr>\n",
       "      <th>2</th>\n",
       "      <td>spam</td>\n",
       "      <td>Free entry in 2 a wkly comp to win FA Cup fina...</td>\n",
       "    </tr>\n",
       "    <tr>\n",
       "      <th>3</th>\n",
       "      <td>ham</td>\n",
       "      <td>U dun say so early hor... U c already then say...</td>\n",
       "    </tr>\n",
       "    <tr>\n",
       "      <th>4</th>\n",
       "      <td>ham</td>\n",
       "      <td>Nah I don't think he goes to usf, he lives aro...</td>\n",
       "    </tr>\n",
       "  </tbody>\n",
       "</table>\n",
       "</div>"
      ],
      "text/plain": [
       "  Target                                              Email\n",
       "0    ham  Go until jurong point, crazy.. Available only ...\n",
       "1    ham                      Ok lar... Joking wif u oni...\n",
       "2   spam  Free entry in 2 a wkly comp to win FA Cup fina...\n",
       "3    ham  U dun say so early hor... U c already then say...\n",
       "4    ham  Nah I don't think he goes to usf, he lives aro..."
      ]
     },
     "execution_count": 29,
     "metadata": {},
     "output_type": "execute_result"
    }
   ],
   "source": [
    "Email_Data.head()"
   ]
  },
  {
   "cell_type": "code",
   "execution_count": 30,
   "metadata": {},
   "outputs": [
    {
     "data": {
      "image/png": "[encoded data removed]",
      "text/plain": [
       "<Figure size 432x288 with 1 Axes>"
      ]
     },
     "metadata": {
      "needs_background": "light"
     },
     "output_type": "display_data"
    }
   ],
   "source": [
    "result=Email_Data['Target'].value_counts()\n",
    "result.plot(kind='bar', rot=0);"
   ]
  },
  {
   "cell_type": "code",
   "execution_count": 31,
   "metadata": {},
   "outputs": [],
   "source": [
    "# نمونه گیری\n",
    "spam = Email_Data[Email_Data['Target'] == 'spam'].sample(n=700)\n",
    "ham = Email_Data[Email_Data['Target'] == 'ham'].sample(n=700)"
   ]
  },
  {
   "cell_type": "code",
   "execution_count": 34,
   "metadata": {},
   "outputs": [
    {
     "data": {
      "text/html": [
       "<div>\n",
       "<style scoped>\n",
       "    .dataframe tbody tr th:only-of-type {\n",
       "        vertical-align: middle;\n",
       "    }\n",
       "\n",
       "    .dataframe tbody tr th {\n",
       "        vertical-align: top;\n",
       "    }\n",
       "\n",
       "    .dataframe thead th {\n",
       "        text-align: right;\n",
       "    }\n",
       "</style>\n",
       "<table border=\"1\" class=\"dataframe\">\n",
       "  <thead>\n",
       "    <tr style=\"text-align: right;\">\n",
       "      <th></th>\n",
       "      <th>Target</th>\n",
       "      <th>Email</th>\n",
       "    </tr>\n",
       "  </thead>\n",
       "  <tbody>\n",
       "    <tr>\n",
       "      <th>5060</th>\n",
       "      <td>spam</td>\n",
       "      <td>Free video camera phones with Half Price line ...</td>\n",
       "    </tr>\n",
       "    <tr>\n",
       "      <th>4879</th>\n",
       "      <td>spam</td>\n",
       "      <td>No 1 POLYPHONIC tone 4 ur mob every week! Just...</td>\n",
       "    </tr>\n",
       "    <tr>\n",
       "      <th>2514</th>\n",
       "      <td>spam</td>\n",
       "      <td>U have won a nokia 6230 plus a free digital ca...</td>\n",
       "    </tr>\n",
       "    <tr>\n",
       "      <th>139</th>\n",
       "      <td>spam</td>\n",
       "      <td>You'll not rcv any more msgs from the chat svc...</td>\n",
       "    </tr>\n",
       "    <tr>\n",
       "      <th>4896</th>\n",
       "      <td>spam</td>\n",
       "      <td>Want the latest Video handset? 750 anytime any...</td>\n",
       "    </tr>\n",
       "    <tr>\n",
       "      <th>4534</th>\n",
       "      <td>spam</td>\n",
       "      <td>Gr8 new service - live sex video chat on your ...</td>\n",
       "    </tr>\n",
       "    <tr>\n",
       "      <th>4985</th>\n",
       "      <td>spam</td>\n",
       "      <td>goldviking (29/M) is inviting you to be his fr...</td>\n",
       "    </tr>\n",
       "    <tr>\n",
       "      <th>5076</th>\n",
       "      <td>spam</td>\n",
       "      <td>This is the 2nd attempt to contract U, you hav...</td>\n",
       "    </tr>\n",
       "    <tr>\n",
       "      <th>870</th>\n",
       "      <td>spam</td>\n",
       "      <td>What do U want for Xmas? How about 100 free te...</td>\n",
       "    </tr>\n",
       "    <tr>\n",
       "      <th>751</th>\n",
       "      <td>spam</td>\n",
       "      <td>Do you realize that in about 40 years, we'll h...</td>\n",
       "    </tr>\n",
       "    <tr>\n",
       "      <th>2959</th>\n",
       "      <td>spam</td>\n",
       "      <td>U have a secret admirer. REVEAL who thinks U R...</td>\n",
       "    </tr>\n",
       "    <tr>\n",
       "      <th>3587</th>\n",
       "      <td>spam</td>\n",
       "      <td>I am hot n horny and willing I live local to y...</td>\n",
       "    </tr>\n",
       "    <tr>\n",
       "      <th>650</th>\n",
       "      <td>spam</td>\n",
       "      <td>You have won ?1,000 cash or a ?2,000 prize! To...</td>\n",
       "    </tr>\n",
       "    <tr>\n",
       "      <th>1274</th>\n",
       "      <td>spam</td>\n",
       "      <td>network operator. The service is free. For T &amp;...</td>\n",
       "    </tr>\n",
       "    <tr>\n",
       "      <th>3192</th>\n",
       "      <td>spam</td>\n",
       "      <td>UR awarded a City Break and could WIN a £200 S...</td>\n",
       "    </tr>\n",
       "    <tr>\n",
       "      <th>418</th>\n",
       "      <td>spam</td>\n",
       "      <td>FREE entry into our £250 weekly competition ju...</td>\n",
       "    </tr>\n",
       "    <tr>\n",
       "      <th>160</th>\n",
       "      <td>spam</td>\n",
       "      <td>You are a winner U have been specially selecte...</td>\n",
       "    </tr>\n",
       "    <tr>\n",
       "      <th>1502</th>\n",
       "      <td>spam</td>\n",
       "      <td>HOT LIVE FANTASIES call now 08707509020 Just 2...</td>\n",
       "    </tr>\n",
       "    <tr>\n",
       "      <th>3360</th>\n",
       "      <td>spam</td>\n",
       "      <td>Sorry I missed your call let's talk when you h...</td>\n",
       "    </tr>\n",
       "    <tr>\n",
       "      <th>947</th>\n",
       "      <td>spam</td>\n",
       "      <td>Ur cash-balance is currently 500 pounds - to m...</td>\n",
       "    </tr>\n",
       "    <tr>\n",
       "      <th>2965</th>\n",
       "      <td>spam</td>\n",
       "      <td>Do you ever notice that when you're driving, a...</td>\n",
       "    </tr>\n",
       "    <tr>\n",
       "      <th>5370</th>\n",
       "      <td>spam</td>\n",
       "      <td>dating:i have had two of these. Only started a...</td>\n",
       "    </tr>\n",
       "    <tr>\n",
       "      <th>270</th>\n",
       "      <td>spam</td>\n",
       "      <td>Ringtone Club: Get the UK singles chart on you...</td>\n",
       "    </tr>\n",
       "    <tr>\n",
       "      <th>4823</th>\n",
       "      <td>spam</td>\n",
       "      <td>u r a winner U ave been specially selected 2 r...</td>\n",
       "    </tr>\n",
       "    <tr>\n",
       "      <th>3988</th>\n",
       "      <td>spam</td>\n",
       "      <td>Ringtone Club: Gr8 new polys direct to your mo...</td>\n",
       "    </tr>\n",
       "    <tr>\n",
       "      <th>4735</th>\n",
       "      <td>spam</td>\n",
       "      <td>Buy Space Invaders 4 a chance 2 win orig Arcad...</td>\n",
       "    </tr>\n",
       "    <tr>\n",
       "      <th>3409</th>\n",
       "      <td>spam</td>\n",
       "      <td>Do you want a New Nokia 3510i colour phone Del...</td>\n",
       "    </tr>\n",
       "    <tr>\n",
       "      <th>5547</th>\n",
       "      <td>spam</td>\n",
       "      <td>Had your contract mobile 11 Mnths? Latest Moto...</td>\n",
       "    </tr>\n",
       "    <tr>\n",
       "      <th>1318</th>\n",
       "      <td>spam</td>\n",
       "      <td>Win the newest “Harry Potter and the Order of ...</td>\n",
       "    </tr>\n",
       "    <tr>\n",
       "      <th>4760</th>\n",
       "      <td>spam</td>\n",
       "      <td>Thanks 4 your continued support Your question ...</td>\n",
       "    </tr>\n",
       "    <tr>\n",
       "      <th>...</th>\n",
       "      <td>...</td>\n",
       "      <td>...</td>\n",
       "    </tr>\n",
       "    <tr>\n",
       "      <th>1469</th>\n",
       "      <td>spam</td>\n",
       "      <td>Hi its LUCY Hubby at meetins all day Fri &amp; I w...</td>\n",
       "    </tr>\n",
       "    <tr>\n",
       "      <th>2420</th>\n",
       "      <td>spam</td>\n",
       "      <td>SMS SERVICES For your inclusive text credits p...</td>\n",
       "    </tr>\n",
       "    <tr>\n",
       "      <th>3155</th>\n",
       "      <td>spam</td>\n",
       "      <td>Not heard from U4 a while. Call 4 rude chat pr...</td>\n",
       "    </tr>\n",
       "    <tr>\n",
       "      <th>1466</th>\n",
       "      <td>spam</td>\n",
       "      <td>YOU 07801543489 are guaranteed the latests Nok...</td>\n",
       "    </tr>\n",
       "    <tr>\n",
       "      <th>4584</th>\n",
       "      <td>spam</td>\n",
       "      <td>For ur chance to win a £250 wkly shopping spre...</td>\n",
       "    </tr>\n",
       "    <tr>\n",
       "      <th>789</th>\n",
       "      <td>spam</td>\n",
       "      <td>5 Free Top Polyphonic Tones call 087018728737,...</td>\n",
       "    </tr>\n",
       "    <tr>\n",
       "      <th>1050</th>\n",
       "      <td>spam</td>\n",
       "      <td>18 days to Euro2004 kickoff! U will be kept in...</td>\n",
       "    </tr>\n",
       "    <tr>\n",
       "      <th>930</th>\n",
       "      <td>spam</td>\n",
       "      <td>money!!! you r a lucky winner ! 2 claim your p...</td>\n",
       "    </tr>\n",
       "    <tr>\n",
       "      <th>766</th>\n",
       "      <td>spam</td>\n",
       "      <td>UR awarded a City Break and could WIN a £200 S...</td>\n",
       "    </tr>\n",
       "    <tr>\n",
       "      <th>240</th>\n",
       "      <td>spam</td>\n",
       "      <td>U 447801259231 have a secret admirer who is lo...</td>\n",
       "    </tr>\n",
       "    <tr>\n",
       "      <th>731</th>\n",
       "      <td>spam</td>\n",
       "      <td>Email AlertFrom: Jeri StewartSize: 2KBSubject:...</td>\n",
       "    </tr>\n",
       "    <tr>\n",
       "      <th>2664</th>\n",
       "      <td>spam</td>\n",
       "      <td>8007 FREE for 1st week! No1 Nokia tone 4 ur mo...</td>\n",
       "    </tr>\n",
       "    <tr>\n",
       "      <th>2680</th>\n",
       "      <td>spam</td>\n",
       "      <td>New Tones This week include: 1)McFly-All Ab..,...</td>\n",
       "    </tr>\n",
       "    <tr>\n",
       "      <th>3298</th>\n",
       "      <td>spam</td>\n",
       "      <td>Todays Voda numbers ending 5226 are selected t...</td>\n",
       "    </tr>\n",
       "    <tr>\n",
       "      <th>5043</th>\n",
       "      <td>spam</td>\n",
       "      <td>Jamster! To get your free wallpaper text HEART...</td>\n",
       "    </tr>\n",
       "    <tr>\n",
       "      <th>4183</th>\n",
       "      <td>spam</td>\n",
       "      <td>Urgent! Please call 0906346330. Your ABTA comp...</td>\n",
       "    </tr>\n",
       "    <tr>\n",
       "      <th>2575</th>\n",
       "      <td>spam</td>\n",
       "      <td>Your next amazing xxx PICSFREE1 video will be ...</td>\n",
       "    </tr>\n",
       "    <tr>\n",
       "      <th>3679</th>\n",
       "      <td>spam</td>\n",
       "      <td>Promotion Number: 8714714 - UR awarded a City ...</td>\n",
       "    </tr>\n",
       "    <tr>\n",
       "      <th>1767</th>\n",
       "      <td>spam</td>\n",
       "      <td>SMS AUCTION You have won a Nokia 7250i. This i...</td>\n",
       "    </tr>\n",
       "    <tr>\n",
       "      <th>3564</th>\n",
       "      <td>spam</td>\n",
       "      <td>Auction round 4. The highest bid is now £54. N...</td>\n",
       "    </tr>\n",
       "    <tr>\n",
       "      <th>4725</th>\n",
       "      <td>spam</td>\n",
       "      <td>FREE GAME. Get Rayman Golf 4 FREE from the O2 ...</td>\n",
       "    </tr>\n",
       "    <tr>\n",
       "      <th>3397</th>\n",
       "      <td>spam</td>\n",
       "      <td>URGENT! Your Mobile number has been awarded wi...</td>\n",
       "    </tr>\n",
       "    <tr>\n",
       "      <th>2987</th>\n",
       "      <td>spam</td>\n",
       "      <td>Reply to win £100 weekly! What professional sp...</td>\n",
       "    </tr>\n",
       "    <tr>\n",
       "      <th>1993</th>\n",
       "      <td>spam</td>\n",
       "      <td>Free tones Hope you enjoyed your new content. ...</td>\n",
       "    </tr>\n",
       "    <tr>\n",
       "      <th>1089</th>\n",
       "      <td>spam</td>\n",
       "      <td>You are awarded a SiPix Digital Camera! call 0...</td>\n",
       "    </tr>\n",
       "    <tr>\n",
       "      <th>3420</th>\n",
       "      <td>spam</td>\n",
       "      <td>Do you want a new Video phone? 600 anytime any...</td>\n",
       "    </tr>\n",
       "    <tr>\n",
       "      <th>2295</th>\n",
       "      <td>spam</td>\n",
       "      <td>You have 1 new message. Please call 08718738034.</td>\n",
       "    </tr>\n",
       "    <tr>\n",
       "      <th>1154</th>\n",
       "      <td>spam</td>\n",
       "      <td>1000's of girls many local 2 u who r virgins 2...</td>\n",
       "    </tr>\n",
       "    <tr>\n",
       "      <th>583</th>\n",
       "      <td>spam</td>\n",
       "      <td>We tried to contact you re your reply to our o...</td>\n",
       "    </tr>\n",
       "    <tr>\n",
       "      <th>1628</th>\n",
       "      <td>spam</td>\n",
       "      <td>You have been selected to stay in 1 of 250 top...</td>\n",
       "    </tr>\n",
       "  </tbody>\n",
       "</table>\n",
       "<p>700 rows × 2 columns</p>\n",
       "</div>"
      ],
      "text/plain": [
       "     Target                                              Email\n",
       "5060   spam  Free video camera phones with Half Price line ...\n",
       "4879   spam  No 1 POLYPHONIC tone 4 ur mob every week! Just...\n",
       "2514   spam  U have won a nokia 6230 plus a free digital ca...\n",
       "139    spam  You'll not rcv any more msgs from the chat svc...\n",
       "4896   spam  Want the latest Video handset? 750 anytime any...\n",
       "4534   spam  Gr8 new service - live sex video chat on your ...\n",
       "4985   spam  goldviking (29/M) is inviting you to be his fr...\n",
       "5076   spam  This is the 2nd attempt to contract U, you hav...\n",
       "870    spam  What do U want for Xmas? How about 100 free te...\n",
       "751    spam  Do you realize that in about 40 years, we'll h...\n",
       "2959   spam  U have a secret admirer. REVEAL who thinks U R...\n",
       "3587   spam  I am hot n horny and willing I live local to y...\n",
       "650    spam  You have won ?1,000 cash or a ?2,000 prize! To...\n",
       "1274   spam  network operator. The service is free. For T &...\n",
       "3192   spam  UR awarded a City Break and could WIN a £200 S...\n",
       "418    spam  FREE entry into our £250 weekly competition ju...\n",
       "160    spam  You are a winner U have been specially selecte...\n",
       "1502   spam  HOT LIVE FANTASIES call now 08707509020 Just 2...\n",
       "3360   spam  Sorry I missed your call let's talk when you h...\n",
       "947    spam  Ur cash-balance is currently 500 pounds - to m...\n",
       "2965   spam  Do you ever notice that when you're driving, a...\n",
       "5370   spam  dating:i have had two of these. Only started a...\n",
       "270    spam  Ringtone Club: Get the UK singles chart on you...\n",
       "4823   spam  u r a winner U ave been specially selected 2 r...\n",
       "3988   spam  Ringtone Club: Gr8 new polys direct to your mo...\n",
       "4735   spam  Buy Space Invaders 4 a chance 2 win orig Arcad...\n",
       "3409   spam  Do you want a New Nokia 3510i colour phone Del...\n",
       "5547   spam  Had your contract mobile 11 Mnths? Latest Moto...\n",
       "1318   spam  Win the newest “Harry Potter and the Order of ...\n",
       "4760   spam  Thanks 4 your continued support Your question ...\n",
       "...     ...                                                ...\n",
       "1469   spam  Hi its LUCY Hubby at meetins all day Fri & I w...\n",
       "2420   spam  SMS SERVICES For your inclusive text credits p...\n",
       "3155   spam  Not heard from U4 a while. Call 4 rude chat pr...\n",
       "1466   spam  YOU 07801543489 are guaranteed the latests Nok...\n",
       "4584   spam  For ur chance to win a £250 wkly shopping spre...\n",
       "789    spam  5 Free Top Polyphonic Tones call 087018728737,...\n",
       "1050   spam  18 days to Euro2004 kickoff! U will be kept in...\n",
       "930    spam  money!!! you r a lucky winner ! 2 claim your p...\n",
       "766    spam  UR awarded a City Break and could WIN a £200 S...\n",
       "240    spam  U 447801259231 have a secret admirer who is lo...\n",
       "731    spam  Email AlertFrom: Jeri StewartSize: 2KBSubject:...\n",
       "2664   spam  8007 FREE for 1st week! No1 Nokia tone 4 ur mo...\n",
       "2680   spam  New Tones This week include: 1)McFly-All Ab..,...\n",
       "3298   spam  Todays Voda numbers ending 5226 are selected t...\n",
       "5043   spam  Jamster! To get your free wallpaper text HEART...\n",
       "4183   spam  Urgent! Please call 0906346330. Your ABTA comp...\n",
       "2575   spam  Your next amazing xxx PICSFREE1 video will be ...\n",
       "3679   spam  Promotion Number: 8714714 - UR awarded a City ...\n",
       "1767   spam  SMS AUCTION You have won a Nokia 7250i. This i...\n",
       "3564   spam  Auction round 4. The highest bid is now £54. N...\n",
       "4725   spam  FREE GAME. Get Rayman Golf 4 FREE from the O2 ...\n",
       "3397   spam  URGENT! Your Mobile number has been awarded wi...\n",
       "2987   spam  Reply to win £100 weekly! What professional sp...\n",
       "1993   spam  Free tones Hope you enjoyed your new content. ...\n",
       "1089   spam  You are awarded a SiPix Digital Camera! call 0...\n",
       "3420   spam  Do you want a new Video phone? 600 anytime any...\n",
       "2295   spam   You have 1 new message. Please call 08718738034.\n",
       "1154   spam  1000's of girls many local 2 u who r virgins 2...\n",
       "583    spam  We tried to contact you re your reply to our o...\n",
       "1628   spam  You have been selected to stay in 1 of 250 top...\n",
       "\n",
       "[700 rows x 2 columns]"
      ]
     },
     "execution_count": 34,
     "metadata": {},
     "output_type": "execute_result"
    }
   ],
   "source": [
    "spam"
   ]
  },
  {
   "cell_type": "code",
   "execution_count": 36,
   "metadata": {},
   "outputs": [
    {
     "data": {
      "text/html": [
       "<div>\n",
       "<style scoped>\n",
       "    .dataframe tbody tr th:only-of-type {\n",
       "        vertical-align: middle;\n",
       "    }\n",
       "\n",
       "    .dataframe tbody tr th {\n",
       "        vertical-align: top;\n",
       "    }\n",
       "\n",
       "    .dataframe thead th {\n",
       "        text-align: right;\n",
       "    }\n",
       "</style>\n",
       "<table border=\"1\" class=\"dataframe\">\n",
       "  <thead>\n",
       "    <tr style=\"text-align: right;\">\n",
       "      <th></th>\n",
       "      <th>Target</th>\n",
       "      <th>Email</th>\n",
       "    </tr>\n",
       "  </thead>\n",
       "  <tbody>\n",
       "    <tr>\n",
       "      <th>5060</th>\n",
       "      <td>spam</td>\n",
       "      <td>Free video camera phones with Half Price line ...</td>\n",
       "    </tr>\n",
       "    <tr>\n",
       "      <th>4879</th>\n",
       "      <td>spam</td>\n",
       "      <td>No 1 POLYPHONIC tone 4 ur mob every week! Just...</td>\n",
       "    </tr>\n",
       "    <tr>\n",
       "      <th>2514</th>\n",
       "      <td>spam</td>\n",
       "      <td>U have won a nokia 6230 plus a free digital ca...</td>\n",
       "    </tr>\n",
       "    <tr>\n",
       "      <th>139</th>\n",
       "      <td>spam</td>\n",
       "      <td>You'll not rcv any more msgs from the chat svc...</td>\n",
       "    </tr>\n",
       "    <tr>\n",
       "      <th>4896</th>\n",
       "      <td>spam</td>\n",
       "      <td>Want the latest Video handset? 750 anytime any...</td>\n",
       "    </tr>\n",
       "  </tbody>\n",
       "</table>\n",
       "</div>"
      ],
      "text/plain": [
       "     Target                                              Email\n",
       "5060   spam  Free video camera phones with Half Price line ...\n",
       "4879   spam  No 1 POLYPHONIC tone 4 ur mob every week! Just...\n",
       "2514   spam  U have won a nokia 6230 plus a free digital ca...\n",
       "139    spam  You'll not rcv any more msgs from the chat svc...\n",
       "4896   spam  Want the latest Video handset? 750 anytime any..."
      ]
     },
     "execution_count": 36,
     "metadata": {},
     "output_type": "execute_result"
    }
   ],
   "source": [
    "new_dataset = spam.append(ham)\n",
    "new_dataset.head()"
   ]
  },
  {
   "cell_type": "code",
   "execution_count": 37,
   "metadata": {},
   "outputs": [
    {
     "data": {
      "text/html": [
       "<div>\n",
       "<style scoped>\n",
       "    .dataframe tbody tr th:only-of-type {\n",
       "        vertical-align: middle;\n",
       "    }\n",
       "\n",
       "    .dataframe tbody tr th {\n",
       "        vertical-align: top;\n",
       "    }\n",
       "\n",
       "    .dataframe thead th {\n",
       "        text-align: right;\n",
       "    }\n",
       "</style>\n",
       "<table border=\"1\" class=\"dataframe\">\n",
       "  <thead>\n",
       "    <tr style=\"text-align: right;\">\n",
       "      <th></th>\n",
       "      <th>Target</th>\n",
       "      <th>Email</th>\n",
       "    </tr>\n",
       "  </thead>\n",
       "  <tbody>\n",
       "    <tr>\n",
       "      <th>4841</th>\n",
       "      <td>spam</td>\n",
       "      <td>PRIVATE! Your 2003 Account Statement for shows...</td>\n",
       "    </tr>\n",
       "    <tr>\n",
       "      <th>4812</th>\n",
       "      <td>ham</td>\n",
       "      <td>E admin building there? I might b slightly ear...</td>\n",
       "    </tr>\n",
       "    <tr>\n",
       "      <th>742</th>\n",
       "      <td>ham</td>\n",
       "      <td>Do well :)all will for little time. Thing of g...</td>\n",
       "    </tr>\n",
       "    <tr>\n",
       "      <th>3979</th>\n",
       "      <td>ham</td>\n",
       "      <td>Reason is if the team budget is available at l...</td>\n",
       "    </tr>\n",
       "    <tr>\n",
       "      <th>3423</th>\n",
       "      <td>spam</td>\n",
       "      <td>Freemsg: 1-month unlimited free calls! Activat...</td>\n",
       "    </tr>\n",
       "  </tbody>\n",
       "</table>\n",
       "</div>"
      ],
      "text/plain": [
       "     Target                                              Email\n",
       "4841   spam  PRIVATE! Your 2003 Account Statement for shows...\n",
       "4812    ham  E admin building there? I might b slightly ear...\n",
       "742     ham  Do well :)all will for little time. Thing of g...\n",
       "3979    ham  Reason is if the team budget is available at l...\n",
       "3423   spam  Freemsg: 1-month unlimited free calls! Activat..."
      ]
     },
     "execution_count": 37,
     "metadata": {},
     "output_type": "execute_result"
    }
   ],
   "source": [
    "# نمونه گیری تصادفی ساده\n",
    "sample = Email_Data.sample(n=700)\n",
    "sample.head()"
   ]
  },
  {
   "cell_type": "code",
   "execution_count": null,
   "metadata": {},
   "outputs": [],
   "source": []
  }
 ],
 "metadata": {
  "kernelspec": {
   "display_name": "Python 3",
   "language": "python",
   "name": "python3"
  },
  "language_info": {
   "codemirror_mode": {
    "name": "ipython",
    "version": 3
   },
   "file_extension": ".py",
   "mimetype": "text/x-python",
   "name": "python",
   "nbconvert_exporter": "python",
   "pygments_lexer": "ipython3",
   "version": "3.7.3"
  }
 },
 "nbformat": 4,
 "nbformat_minor": 2
}
