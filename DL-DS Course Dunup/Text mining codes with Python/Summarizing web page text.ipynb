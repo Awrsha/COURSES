{
 "cells": [
  {
   "cell_type": "code",
   "execution_count": 1,
   "metadata": {},
   "outputs": [],
   "source": [
    "#وارد کردن اطلاعات سایت\n",
    "import bs4 as bs  \n",
    "import urllib.request  \n",
    "import re\n",
    "scraped_data = urllib.request.urlopen('https://en.wikipedia.org/wiki/AXA')  \n",
    "article = scraped_data.read()\n",
    "parsed_article = bs.BeautifulSoup(article,'lxml')\n",
    "paragraphs = parsed_article.find_all('p')\n",
    "article_text = \"\"\n",
    "\n",
    "for p in paragraphs:  \n",
    "    article_text += p.text"
   ]
  },
  {
   "cell_type": "code",
   "execution_count": 2,
   "metadata": {},
   "outputs": [
    {
     "data": {
      "text/plain": [
       "'\\nAXA is a French multinational insurance firm  headquartered in the 8th arrondissement of Paris that engages in global insurance, investment management, and other financial services.\\nThe AXA Group operates primarily in Western Europe, North America, the Asia Pacific region, and the Middle East, with a presence also in Africa. AXA is a conglomerate of independently run businesses, operated according to the laws and regulations of many different countries. The company is a component of the Euro Stoxx 50 stock market index.[3] Axa is incorporated in New York.[4]\\nThe company was founded in 1816 as Mutuelle de L\\'assurance contre L\\'incendie (the Ancienne Mutuelle).[5] It acquired Compagnie Parisienne de Garantie in 1978 and became Mutuelles Unies.[6] It went on to buy the Drouot Group in 1982, becoming Mutuelles Unies/Drouot. It adopted the  AXA name in 1985.[6] The takeover of the American insurance company The Equitable, came in 1991.[6] It bought Union des Assurances De Paris (UAP), France\\'s largest insurer, in 1996 becoming AXA-UAP for a while before reverting to the name AXA in 1999.[7] Then in February 1999 AXA acquired Guardian Royal Exchange.[8] In May 2000 AXA acquired all shares it did not already own in Sun Life & Provincial Holdings.[9] On June 14, 2006 AXA acquired the leading Swiss insurance company Winterthur Group from Credit Suisse for approximately €9 billion.[10] On September 12, 2018, AXA completed the acquisition of Bermuda based XL Group Ltd, a leading global Property & Casualty commercial lines insurer and reinsurer for $15.3 billion.[11]\\nAccording to a 2011 paper by Vitali et al., AXA was the second most powerful transnational corporation in terms of ownership and thus corporate control over global financial stability and market competition with Barclays and State Street Corporation taking the 1st and 3rd position, respectively.[12][13]\\nDuring May 2016, it announced it was to stop investing in tobacco shares and bonds and allow its portfolio of tobacco-related bonds to run off.[14]\\nDespite being written in upper case, \"AXA\" is not an acronym, but was chosen because its name can be pronounced easily by people who speak any language.  After acquiring the Drouot Group in 1982, Chairman and CEO Claude Bébéar hired an outside consultant to conduct a computer-aided search for a new name.  Bébéar wanted a short and snappy name to convey vitality and could be pronounced the same way in every language, consistent with the group\\'s desire for an international presence.  Initially, \"Elan\" was the top choice, but Canadian executives balked because \"elan\" is the French word for a moose or elk.  In 1985, Bébéar chose the name AXA.[15]\\nAXA trades in the United Kingdom as AXA UK using a number of subsidiaries such as AXA Sun Life, AXA Insurance, AXA Investment Managers, AXA Wealth and AXA PPP Healthcare.  AXA PPP Healthcare was created when AXA bought Guardian Royal Exchange (GRE), though it subsequently sold the other parts of GRE to Aegon. The company also owns the online insurer Swiftcover, distribution business Bluefin and fund manager Architas. In January 2007 AXA was reorganised into \"strategic business units\" (SBU\\'s) aimed at competing within their specific markets.\\nIn September 2013, AXA Wealth was fined £1.8m by the FCA for failing to ensure it gave suitable investment advice to its customers. The regulator says it found \"serious defects\" in the way AXA advisers in Clydesdale Bank, Yorkshire Bank and the West Bromwich Building Society advised customers on investments.[16]\\nAXA runs its investment branch through AXA Investment Managers (IM).\\nAXA Sun Life was created following the merger between AXA Equity & Law and Sun Life Assurance Society PLC. In 2006 Winterthur Life in the UK was absorbed although AXA continues to use the Winterthur brand for high-net-worth wealth management business.\\nThe business units are:[17]\\nAXA sold AXA Sun Life Holdings Ltd to Resolution Limited in autumn 2010,[19][20] whilst retaining AXA Wealth (including Architas and the Elevate wrap platform), SunLife and Bancassurance business units. Closure of the Bancassurance arm was announced in April 2013.[21]\\nAXA PPP healthcare is a UK private medical insurance provider.  AXA PPP healthcare was originally known as The London Association of Hospital Services, which was set up in 1938 as a private healthcare scheme for people of middle income in London. The company has its headquarters in the town of Tunbridge Wells in Kent, England, and is the town\\'s largest private sector employer. AXA PPP healthcare provides individual private medical insurance for individuals and business as well as employee assistance programmes. AXA PPP healthcare also has a main office in Leicester, East Midlands, England.\\nIn 2009, AXA PPP International was created, catering for the expatriate health cover market.\\nIn 2018, it launched a virtual doctor service, called Global Care on Demand, for its customers with outpatient cover. Provided by Advance Medical it offers access to medical advice by phone or video by doctors located in eight main hubs around the world who speak more than 20 languages, and is targeted at expatriates.[22]\\nAXA Isle of Man Limited was originally created as a subsidiary of AXA Sun Life in the United Kingdom, but since the Isle of Man is not a part of the United Kingdom it is regulated instead by the laws of the Isle of Man. AXA Isle of Man Limited advertises itself as a repository for citizens of the United Kingdom and the Channel Islands who seek to shelter their assets from taxation.\\nWhile the company trades upon the AXA logo, name and group advertising which promotes the total wealth of the group, the assets of the Isle of Man company are limited to those of the Isle of Man company itself.\\nAXA Schengen Travel Insurance provides insurance to travelers who need a visa to enter the Schengen Area.\\nAXA Canada offered insurance services through a network of affiliates operating in the different Canadian regions such as Quebec, Ontario, Western Canada and Atlantic Canada. In 2009, the company had a total of approximately 2,300 employees and 4000 brokers and advisors. The head office was in Montreal, Quebec. In 2011, AXA\\'s Canadian operations were acquired by Intact Financial Corp. for C$2.6 billion.[23]\\nThe American arm of AXA is AXA Financial, inc., which is known mainly through its subsidiaries such as AXA Advisors, LLC, AXA Equitable Life Insurance, AXA Network, MONY (former Mutual of New York), US Financial Life, and AllianceBernstein.[24] The Equitable was acquired in 1991; MONY was acquired in 2004.[25][26]\\nOn December 15, 2006, AXA Advisors, LLC entered into agreements with LPL (Linsco Private Ledger), the country\\'s largest independent broker-dealer. LPL agreed to provide brokerage, clearing and custody services on a fully disclosed basis. The terms of the agreements are five years, subject to additional 24-month extensions. Services began in August 2007.\\nAXA is present in GCC countries as AXA Insurance (Gulf) B.S.C. Present in the region for more than 60 years, AXA is the largest insurer in the GCC with branches across Bahrain, Oman, UAE and Turkey. In Saudi Arabia AXA is known as AXA Cooperative Insurance. It offers insurance for individuals and businesses with Health, Motor, Home, Travel, Personal and Group Accident, Fire, Engineering, Life and various other products.[27]\\nAXA is present in Lebanon as AXA Middle East. In 2000, AXA group acquired 51% of SLF\\' capital and the Nasnas & Hanemoglou\\'s Group the remaining 49% to start the operations in Middle East.\\nAXA has also started operations in Egypt in the year 2015.[28]\\nIn July 2008, AXA acquired ING Insurance Mexico, offering essentially the same services that ING offered. AXA then sued an ING Groep NV subsidiary over alleged misrepresentations in the $1.5 billion sale stating it suffered \"tens (if not hundreds) of millions of dollars in damages.\"[29]\\nThe regional office of AXA Asia is based in Hong Kong, with operating businesses across life insurance in eight markets (Hong Kong, Singapore, Indonesia, China, Malaysia, India, Thailand, and the Philippines) and general insurance in eight markets (Hong Kong, Singapore, Indonesia, China, Malaysia, India, Korea, and Thailand)\\nThey have joint ventures in the following countries:\\nBeside having two joint ventures in life and general with Bank Mandiri, AXA also has direct business without strategic joint venture in life (as AXA Financial Indonesia and AXA Life Indonesia) and general (as Asuransi AXA Indonesia).\\nIn 1995 the AXA group purchased a 51 per cent controlling interest in the Australian life insurer, National Mutual Life Association of Australia Ltd for NF4\\xa0billion, that was claimed at the time to contribute about 15 percent of the AXA group\\'s worldwide insurance-premium income.[30]\\nIn April 2016 AXA unveiled a partnership with Lloyd\\'s of London insurer Chaucer Holdings to enter the growing market of speciality insurance in Africa. AXA Africa Specialty Risks helps to mitigate risks  through its coverholder, Chaucer Syndicate 1084 and AXA Africa Specialty Risks 6130. AXA ASR focuses on Specialty & Corporate lines, with coverage and an on-the-ground presence across Africa. AXA and Lloyd\\'s both have excellent international financial strength ratings (AA- by Fitch and A+ by Standard & Poor\\'s). The lines of business include: Political Risk, Political Violence and Terrorism, Energy, Construction, Property, Liability, Marine and Aviation. Since 2014 AXA has made several acquisitions of other insurers in an attempt to expand. AXA already operates in Cameroon, Egypt, Gabon, Ivory Coast, Morocco, Nigeria, Senegal and Algeria.[31]\\nIn January 2016, AXA created Kamet Ventures, an insurTech incubator, to build disruptive businesses in insurance, healthcare and assistance space with an initial funding of €100M. Some of Kamet\\'s investments include insurance advice platform, Anorak Technologies and elderly care platform, Birdie [32][33][34]\\nCapital Ownership as of December 31, 2010[35]\\nAXA headquarters is located in the 8th arrondissement of Paris.[36] AXA, which already owned 23 Avenue Matignon, acquired the former Hotel de La Vaupalière, an 18th-century building, in the late 1990s. Architect Ricardo Bofill integrated the facade of the hotel with a modern glass building that covers the courtyard that the hotel also occupies. The complex serves as AXA\\'s head office.[37]\\nBesides its artistic and social philanthropic initiatives (AXA Heart in action),[38] AXA created the AXA Research Fund in 2008. Endowed with €100 million, it provides support for research focused on understanding and preventing the risks threatening the environment, human life and society.[39]\\n256 basic-research projects were funded within three years, including 230 young researchers, PhDs or in postdoctoral year, working in laboratories all around the world. AXA also gathers every year the young fellows to meet a world-class researcher, exchange best practices and network.\\nThe Fund has also awarded 11 endowments for several million euros supporting research institutions of excellence (HEC Paris, NUS, University of Bristol, LSE, MetOffice, INSERM, IHES ... ). These Research and Education Chairs intend to attract the best scientists. For example, the AXA - Polytechnique Chair in Cellular Cardiovascular Engineering,[40] held by Abdul Barakat, aims to promote research on cardiovascular diseases, but also to train and develop young researchers through extended educational programs.\\n Media related to AXA at Wikimedia Commons\\n\\n'"
      ]
     },
     "execution_count": 2,
     "metadata": {},
     "output_type": "execute_result"
    }
   ],
   "source": [
    "article_text"
   ]
  },
  {
   "cell_type": "code",
   "execution_count": 3,
   "metadata": {},
   "outputs": [],
   "source": [
    "#پش پردازش متن\n",
    "article_text = re.sub(r'\\[[0-9]*\\]', ' ', article_text)  \n",
    "article_text = re.sub(r'\\s+', ' ', article_text)\n",
    "# حذف کردن کارکترهای خاص و ارقام در متن\n",
    "formatted_article_text = re.sub('[^a-zA-Z]', ' ', article_text )  \n",
    "formatted_article_text = re.sub(r'\\s+', ' ', formatted_article_text)  "
   ]
  },
  {
   "cell_type": "code",
   "execution_count": 4,
   "metadata": {},
   "outputs": [
    {
     "data": {
      "text/plain": [
       "' AXA is a French multinational insurance firm headquartered in the th arrondissement of Paris that engages in global insurance investment management and other financial services The AXA Group operates primarily in Western Europe North America the Asia Pacific region and the Middle East with a presence also in Africa AXA is a conglomerate of independently run businesses operated according to the laws and regulations of many different countries The company is a component of the Euro Stoxx stock market index Axa is incorporated in New York The company was founded in as Mutuelle de L assurance contre L incendie the Ancienne Mutuelle It acquired Compagnie Parisienne de Garantie in and became Mutuelles Unies It went on to buy the Drouot Group in becoming Mutuelles Unies Drouot It adopted the AXA name in The takeover of the American insurance company The Equitable came in It bought Union des Assurances De Paris UAP France s largest insurer in becoming AXA UAP for a while before reverting to the name AXA in Then in February AXA acquired Guardian Royal Exchange In May AXA acquired all shares it did not already own in Sun Life Provincial Holdings On June AXA acquired the leading Swiss insurance company Winterthur Group from Credit Suisse for approximately billion On September AXA completed the acquisition of Bermuda based XL Group Ltd a leading global Property Casualty commercial lines insurer and reinsurer for billion According to a paper by Vitali et al AXA was the second most powerful transnational corporation in terms of ownership and thus corporate control over global financial stability and market competition with Barclays and State Street Corporation taking the st and rd position respectively During May it announced it was to stop investing in tobacco shares and bonds and allow its portfolio of tobacco related bonds to run off Despite being written in upper case AXA is not an acronym but was chosen because its name can be pronounced easily by people who speak any language After acquiring the Drouot Group in Chairman and CEO Claude B b ar hired an outside consultant to conduct a computer aided search for a new name B b ar wanted a short and snappy name to convey vitality and could be pronounced the same way in every language consistent with the group s desire for an international presence Initially Elan was the top choice but Canadian executives balked because elan is the French word for a moose or elk In B b ar chose the name AXA AXA trades in the United Kingdom as AXA UK using a number of subsidiaries such as AXA Sun Life AXA Insurance AXA Investment Managers AXA Wealth and AXA PPP Healthcare AXA PPP Healthcare was created when AXA bought Guardian Royal Exchange GRE though it subsequently sold the other parts of GRE to Aegon The company also owns the online insurer Swiftcover distribution business Bluefin and fund manager Architas In January AXA was reorganised into strategic business units SBU s aimed at competing within their specific markets In September AXA Wealth was fined m by the FCA for failing to ensure it gave suitable investment advice to its customers The regulator says it found serious defects in the way AXA advisers in Clydesdale Bank Yorkshire Bank and the West Bromwich Building Society advised customers on investments AXA runs its investment branch through AXA Investment Managers IM AXA Sun Life was created following the merger between AXA Equity Law and Sun Life Assurance Society PLC In Winterthur Life in the UK was absorbed although AXA continues to use the Winterthur brand for high net worth wealth management business The business units are AXA sold AXA Sun Life Holdings Ltd to Resolution Limited in autumn whilst retaining AXA Wealth including Architas and the Elevate wrap platform SunLife and Bancassurance business units Closure of the Bancassurance arm was announced in April AXA PPP healthcare is a UK private medical insurance provider AXA PPP healthcare was originally known as The London Association of Hospital Services which was set up in as a private healthcare scheme for people of middle income in London The company has its headquarters in the town of Tunbridge Wells in Kent England and is the town s largest private sector employer AXA PPP healthcare provides individual private medical insurance for individuals and business as well as employee assistance programmes AXA PPP healthcare also has a main office in Leicester East Midlands England In AXA PPP International was created catering for the expatriate health cover market In it launched a virtual doctor service called Global Care on Demand for its customers with outpatient cover Provided by Advance Medical it offers access to medical advice by phone or video by doctors located in eight main hubs around the world who speak more than languages and is targeted at expatriates AXA Isle of Man Limited was originally created as a subsidiary of AXA Sun Life in the United Kingdom but since the Isle of Man is not a part of the United Kingdom it is regulated instead by the laws of the Isle of Man AXA Isle of Man Limited advertises itself as a repository for citizens of the United Kingdom and the Channel Islands who seek to shelter their assets from taxation While the company trades upon the AXA logo name and group advertising which promotes the total wealth of the group the assets of the Isle of Man company are limited to those of the Isle of Man company itself AXA Schengen Travel Insurance provides insurance to travelers who need a visa to enter the Schengen Area AXA Canada offered insurance services through a network of affiliates operating in the different Canadian regions such as Quebec Ontario Western Canada and Atlantic Canada In the company had a total of approximately employees and brokers and advisors The head office was in Montreal Quebec In AXA s Canadian operations were acquired by Intact Financial Corp for C billion The American arm of AXA is AXA Financial inc which is known mainly through its subsidiaries such as AXA Advisors LLC AXA Equitable Life Insurance AXA Network MONY former Mutual of New York US Financial Life and AllianceBernstein The Equitable was acquired in MONY was acquired in On December AXA Advisors LLC entered into agreements with LPL Linsco Private Ledger the country s largest independent broker dealer LPL agreed to provide brokerage clearing and custody services on a fully disclosed basis The terms of the agreements are five years subject to additional month extensions Services began in August AXA is present in GCC countries as AXA Insurance Gulf B S C Present in the region for more than years AXA is the largest insurer in the GCC with branches across Bahrain Oman UAE and Turkey In Saudi Arabia AXA is known as AXA Cooperative Insurance It offers insurance for individuals and businesses with Health Motor Home Travel Personal and Group Accident Fire Engineering Life and various other products AXA is present in Lebanon as AXA Middle East In AXA group acquired of SLF capital and the Nasnas Hanemoglou s Group the remaining to start the operations in Middle East AXA has also started operations in Egypt in the year In July AXA acquired ING Insurance Mexico offering essentially the same services that ING offered AXA then sued an ING Groep NV subsidiary over alleged misrepresentations in the billion sale stating it suffered tens if not hundreds of millions of dollars in damages The regional office of AXA Asia is based in Hong Kong with operating businesses across life insurance in eight markets Hong Kong Singapore Indonesia China Malaysia India Thailand and the Philippines and general insurance in eight markets Hong Kong Singapore Indonesia China Malaysia India Korea and Thailand They have joint ventures in the following countries Beside having two joint ventures in life and general with Bank Mandiri AXA also has direct business without strategic joint venture in life as AXA Financial Indonesia and AXA Life Indonesia and general as Asuransi AXA Indonesia In the AXA group purchased a per cent controlling interest in the Australian life insurer National Mutual Life Association of Australia Ltd for NF billion that was claimed at the time to contribute about percent of the AXA group s worldwide insurance premium income In April AXA unveiled a partnership with Lloyd s of London insurer Chaucer Holdings to enter the growing market of speciality insurance in Africa AXA Africa Specialty Risks helps to mitigate risks through its coverholder Chaucer Syndicate and AXA Africa Specialty Risks AXA ASR focuses on Specialty Corporate lines with coverage and an on the ground presence across Africa AXA and Lloyd s both have excellent international financial strength ratings AA by Fitch and A by Standard Poor s The lines of business include Political Risk Political Violence and Terrorism Energy Construction Property Liability Marine and Aviation Since AXA has made several acquisitions of other insurers in an attempt to expand AXA already operates in Cameroon Egypt Gabon Ivory Coast Morocco Nigeria Senegal and Algeria In January AXA created Kamet Ventures an insurTech incubator to build disruptive businesses in insurance healthcare and assistance space with an initial funding of M Some of Kamet s investments include insurance advice platform Anorak Technologies and elderly care platform Birdie Capital Ownership as of December AXA headquarters is located in the th arrondissement of Paris AXA which already owned Avenue Matignon acquired the former Hotel de La Vaupali re an th century building in the late s Architect Ricardo Bofill integrated the facade of the hotel with a modern glass building that covers the courtyard that the hotel also occupies The complex serves as AXA s head office Besides its artistic and social philanthropic initiatives AXA Heart in action AXA created the AXA Research Fund in Endowed with million it provides support for research focused on understanding and preventing the risks threatening the environment human life and society basic research projects were funded within three years including young researchers PhDs or in postdoctoral year working in laboratories all around the world AXA also gathers every year the young fellows to meet a world class researcher exchange best practices and network The Fund has also awarded endowments for several million euros supporting research institutions of excellence HEC Paris NUS University of Bristol LSE MetOffice INSERM IHES These Research and Education Chairs intend to attract the best scientists For example the AXA Polytechnique Chair in Cellular Cardiovascular Engineering held by Abdul Barakat aims to promote research on cardiovascular diseases but also to train and develop young researchers through extended educational programs Media related to AXA at Wikimedia Commons '"
      ]
     },
     "execution_count": 4,
     "metadata": {},
     "output_type": "execute_result"
    }
   ],
   "source": [
    "formatted_article_text"
   ]
  },
  {
   "cell_type": "code",
   "execution_count": 5,
   "metadata": {},
   "outputs": [],
   "source": [
    "type(article_text)\n",
    "import nltk"
   ]
  },
  {
   "cell_type": "code",
   "execution_count": 6,
   "metadata": {},
   "outputs": [
    {
     "data": {
      "text/plain": [
       "str"
      ]
     },
     "execution_count": 6,
     "metadata": {},
     "output_type": "execute_result"
    }
   ],
   "source": [
    "type(article_text)"
   ]
  },
  {
   "cell_type": "code",
   "execution_count": 8,
   "metadata": {},
   "outputs": [],
   "source": [
    "#تبدیل متن به جملات\n",
    "sentence_list = nltk.sent_tokenize(article_text)\n",
    "#محاسبه فراوانی وزن دار جملات \n",
    "stopwords = nltk.corpus.stopwords.words('english')\n",
    "\n",
    "word_frequencies = {}  \n",
    "for word in nltk.word_tokenize(formatted_article_text):  \n",
    "    if word not in stopwords:\n",
    "        if word not in word_frequencies.keys():\n",
    "            word_frequencies[word] = 1\n",
    "        else:\n",
    "            word_frequencies[word] += 1"
   ]
  },
  {
   "cell_type": "code",
   "execution_count": 9,
   "metadata": {},
   "outputs": [],
   "source": [
    "maximum_frequncy = max(word_frequencies.values())\n",
    "\n",
    "for word in word_frequencies.keys():  \n",
    "    word_frequencies[word] = (word_frequencies[word]/maximum_frequncy)"
   ]
  },
  {
   "cell_type": "code",
   "execution_count": 10,
   "metadata": {},
   "outputs": [],
   "source": [
    "#محاسبه امتیاز جملات\n",
    "sentence_scores = {}  \n",
    "for sent in sentence_list:  \n",
    "    for word in nltk.word_tokenize(sent.lower()):\n",
    "        if word in word_frequencies.keys():\n",
    "            if len(sent.split(' ')) < 30:\n",
    "                if sent not in sentence_scores.keys():\n",
    "                    sentence_scores[sent] = word_frequencies[word]\n",
    "                else:\n",
    "                    sentence_scores[sent] += word_frequencies[word]"
   ]
  },
  {
   "cell_type": "code",
   "execution_count": 11,
   "metadata": {},
   "outputs": [
    {
     "name": "stdout",
     "output_type": "stream",
     "text": [
      " AXA is a French multinational insurance firm headquartered in the 8th arrondissement of Paris that engages in global insurance, investment management, and other financial services. On June 14, 2006 AXA acquired the leading Swiss insurance company Winterthur Group from Credit Suisse for approximately €9 billion. AXA PPP healthcare provides individual private medical insurance for individuals and business as well as employee assistance programmes. In January 2016, AXA created Kamet Ventures, an insurTech incubator, to build disruptive businesses in insurance, healthcare and assistance space with an initial funding of €100M. The company also owns the online insurer Swiftcover, distribution business Bluefin and fund manager Architas. AXA Schengen Travel Insurance provides insurance to travelers who need a visa to enter the Schengen Area. It offers insurance for individuals and businesses with Health, Motor, Home, Travel, Personal and Group Accident, Fire, Engineering, Life and various other products. Bébéar wanted a short and snappy name to convey vitality and could be pronounced the same way in every language, consistent with the group's desire for an international presence. In July 2008, AXA acquired ING Insurance Mexico, offering essentially the same services that ING offered. On September 12, 2018, AXA completed the acquisition of Bermuda based XL Group Ltd, a leading global Property & Casualty commercial lines insurer and reinsurer for $15.3 billion. In April 2016 AXA unveiled a partnership with Lloyd's of London insurer Chaucer Holdings to enter the growing market of speciality insurance in Africa. AXA PPP healthcare is a UK private medical insurance provider. AXA Canada offered insurance services through a network of affiliates operating in the different Canadian regions such as Quebec, Ontario, Western Canada and Atlantic Canada.\n"
     ]
    }
   ],
   "source": [
    "#خلاصه سازی\n",
    "import heapq  \n",
    "summary_sentences = heapq.nlargest(13, sentence_scores, key=sentence_scores.get)\n",
    "\n",
    "summary = ' '.join(summary_sentences)  \n",
    "print(summary)"
   ]
  },
  {
   "cell_type": "code",
   "execution_count": null,
   "metadata": {},
   "outputs": [],
   "source": []
  }
 ],
 "metadata": {
  "kernelspec": {
   "display_name": "Python 3",
   "language": "python",
   "name": "python3"
  },
  "language_info": {
   "codemirror_mode": {
    "name": "ipython",
    "version": 3
   },
   "file_extension": ".py",
   "mimetype": "text/x-python",
   "name": "python",
   "nbconvert_exporter": "python",
   "pygments_lexer": "ipython3",
   "version": "3.7.3"
  }
 },
 "nbformat": 4,
 "nbformat_minor": 2
}
