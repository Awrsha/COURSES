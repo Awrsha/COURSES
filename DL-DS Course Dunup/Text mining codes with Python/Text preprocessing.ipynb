{
 "cells": [
  {
   "cell_type": "markdown",
   "metadata": {},
   "source": [
    "# تبدیل متن به lowercase"
   ]
  },
  {
   "cell_type": "code",
   "execution_count": 1,
   "metadata": {},
   "outputs": [],
   "source": [
    "#خواندن / ساختن یک متن دیتا\n",
    "text = ['This is introduction to NLP','It is likely to be useful, to people ',\n",
    "      'Machine learning is the new electrcity',\n",
    "      'There would be less hype around AI and more action going forward'\n",
    "      'python is the best tool!','R is good langauage'\n",
    "      'I like this book',\n",
    "      'I want more books like this']"
   ]
  },
  {
   "cell_type": "code",
   "execution_count": 2,
   "metadata": {},
   "outputs": [
    {
     "name": "stdout",
     "output_type": "stream",
     "text": [
      "                                               tweet\n",
      "0                        This is introduction to NLP\n",
      "1              It is likely to be useful, to people \n",
      "2             Machine learning is the new electrcity\n",
      "3  There would be less hype around AI and more ac...\n",
      "4                R is good langauageI like this book\n",
      "5                        I want more books like this\n"
     ]
    }
   ],
   "source": [
    "#تبدیل لیست به فریم\n",
    "\n",
    "import pandas as pd\n",
    "\n",
    "df = pd.DataFrame({'tweet':text})\n",
    "\n",
    "print(df)"
   ]
  },
  {
   "cell_type": "code",
   "execution_count": 3,
   "metadata": {},
   "outputs": [
    {
     "name": "stdout",
     "output_type": "stream",
     "text": [
      "testing\n"
     ]
    }
   ],
   "source": [
    "#اجرای تابع lower() روی متن\n",
    "x = 'Testing'\n",
    "x2 = x.lower()\n",
    "print(x2)"
   ]
  },
  {
   "cell_type": "code",
   "execution_count": 4,
   "metadata": {},
   "outputs": [
    {
     "data": {
      "text/plain": [
       "0                          this is introduction to nlp\n",
       "1                 it is likely to be useful, to people\n",
       "2               machine learning is the new electrcity\n",
       "3    there would be less hype around ai and more ac...\n",
       "4                  r is good langauagei like this book\n",
       "5                          i want more books like this\n",
       "Name: tweet, dtype: object"
      ]
     },
     "execution_count": 4,
     "metadata": {},
     "output_type": "execute_result"
    }
   ],
   "source": [
    "df['tweet'] = df['tweet'].apply(lambda x: \" \".join(x.lower() for x in x.split()))\n",
    "                             \n",
    "df['tweet']"
   ]
  },
  {
   "cell_type": "markdown",
   "metadata": {},
   "source": [
    "# حذف Punctuation"
   ]
  },
  {
   "cell_type": "code",
   "execution_count": 5,
   "metadata": {},
   "outputs": [],
   "source": [
    "#خواندن / ساختن یک متن دیتا\n",
    "text = ['This is introduction to NLP','It is likely to be useful, to people ',\n",
    "      'Machine learning is the new electrcity',\n",
    "      'There would be less hype around AI and more action going forward'\n",
    "      'python is the best tool!','R is good langauage'\n",
    "      'I like this book',\n",
    "      'I want more books like this']"
   ]
  },
  {
   "cell_type": "code",
   "execution_count": 6,
   "metadata": {},
   "outputs": [
    {
     "name": "stdout",
     "output_type": "stream",
     "text": [
      "                                               tweet\n",
      "0                        This is introduction to NLP\n",
      "1              It is likely to be useful, to people \n",
      "2             Machine learning is the new electrcity\n",
      "3  There would be less hype around AI and more ac...\n",
      "4                R is good langauageI like this book\n",
      "5                        I want more books like this\n"
     ]
    }
   ],
   "source": [
    "#تبدیل لیست به فریم\n",
    "\n",
    "import pandas as pd\n",
    "\n",
    "df = pd.DataFrame({'tweet':text})\n",
    "\n",
    "print(df)"
   ]
  },
  {
   "cell_type": "code",
   "execution_count": 8,
   "metadata": {},
   "outputs": [
    {
     "data": {
      "text/plain": [
       "'I like This book'"
      ]
     },
     "execution_count": 8,
     "metadata": {},
     "output_type": "execute_result"
    }
   ],
   "source": [
    "# مثال\n",
    "import re\n",
    "s = \"I. like. This book!\"\n",
    "s1 = re.sub(r'[^\\w\\s]',\"\",s)\n",
    "s1"
   ]
  },
  {
   "cell_type": "code",
   "execution_count": 9,
   "metadata": {},
   "outputs": [
    {
     "data": {
      "text/plain": [
       "0                          This is introduction to NLP\n",
       "1                 It is likely to be useful to people \n",
       "2               Machine learning is the new electrcity\n",
       "3    There would be less hype around AI and more ac...\n",
       "4                  R is good langauageI like this book\n",
       "5                          I want more books like this\n",
       "Name: tweet, dtype: object"
      ]
     },
     "execution_count": 9,
     "metadata": {},
     "output_type": "execute_result"
    }
   ],
   "source": [
    "# اجرای تابع روی دیتا\n",
    "df['tweet'] = df['tweet'].str.replace('[^\\w\\s]',\"\")\n",
    "df['tweet']"
   ]
  },
  {
   "cell_type": "markdown",
   "metadata": {},
   "source": [
    "# حذف Stop Words"
   ]
  },
  {
   "cell_type": "code",
   "execution_count": 26,
   "metadata": {},
   "outputs": [],
   "source": [
    "#خواندن / ساختن یک متن دیتا\n",
    "text = ['This is introduction to NLP','It is likely to be useful, to people',\n",
    "          'Machine learning is the new electrcity',\n",
    "          'There would be less hype around AI and more action going forward'\n",
    "          'python is the best tool!','R is good langauage'\n",
    "          'I like this book',\n",
    "          'I want more books like this']"
   ]
  },
  {
   "cell_type": "code",
   "execution_count": 27,
   "metadata": {},
   "outputs": [
    {
     "name": "stdout",
     "output_type": "stream",
     "text": [
      "                                               tweet\n",
      "0                        This is introduction to NLP\n",
      "1               It is likely to be useful, to people\n",
      "2             Machine learning is the new electrcity\n",
      "3  There would be less hype around AI and more ac...\n",
      "4                R is good langauageI like this book\n",
      "5                        I want more books like this\n"
     ]
    }
   ],
   "source": [
    "#تبدیل لیست به فریم\n",
    "\n",
    "import pandas as pd\n",
    "\n",
    "df = pd.DataFrame({'tweet':text})\n",
    "\n",
    "print(df)"
   ]
  },
  {
   "cell_type": "code",
   "execution_count": 28,
   "metadata": {},
   "outputs": [
    {
     "name": "stdout",
     "output_type": "stream",
     "text": [
      "showing info https://raw.githubusercontent.com/nltk/nltk_data/gh-pages/index.xml\n"
     ]
    },
    {
     "data": {
      "text/plain": [
       "True"
      ]
     },
     "execution_count": 28,
     "metadata": {},
     "output_type": "execute_result"
    }
   ],
   "source": [
    "#نصب کتابخانه\n",
    "#pip install nltk\n",
    "import nltk\n",
    "nltk.download()\n"
   ]
  },
  {
   "cell_type": "code",
   "execution_count": 29,
   "metadata": {},
   "outputs": [],
   "source": [
    "# وارد کردن کتابخانه\n",
    "from nltk.corpus import stopwords"
   ]
  },
  {
   "cell_type": "code",
   "execution_count": 30,
   "metadata": {},
   "outputs": [
    {
     "data": {
      "text/plain": [
       "0                                This introduction NLP\n",
       "1                             It likely useful, people\n",
       "2                      Machine learning new electrcity\n",
       "3    There would less hype around AI action going f...\n",
       "4                          R good langauageI like book\n",
       "5                                    I want books like\n",
       "Name: tweet, dtype: object"
      ]
     },
     "execution_count": 30,
     "metadata": {},
     "output_type": "execute_result"
    }
   ],
   "source": [
    "#حذف stopword \n",
    "stop = stopwords.words('english')\n",
    "df['tweet'] = df['tweet'].apply(lambda x: \" \".join(x for x in x.split() if x not in stop))\n",
    "df['tweet']"
   ]
  },
  {
   "cell_type": "code",
   "execution_count": null,
   "metadata": {},
   "outputs": [],
   "source": []
  }
 ],
 "metadata": {
  "kernelspec": {
   "display_name": "Python 3",
   "language": "python",
   "name": "python3"
  },
  "language_info": {
   "codemirror_mode": {
    "name": "ipython",
    "version": 3
   },
   "file_extension": ".py",
   "mimetype": "text/x-python",
   "name": "python",
   "nbconvert_exporter": "python",
   "pygments_lexer": "ipython3",
   "version": "3.7.3"
  }
 },
 "nbformat": 4,
 "nbformat_minor": 2
}
