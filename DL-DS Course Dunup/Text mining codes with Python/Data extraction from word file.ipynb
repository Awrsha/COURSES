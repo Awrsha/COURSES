{
 "cells": [
  {
   "cell_type": "code",
   "execution_count": 1,
   "metadata": {},
   "outputs": [],
   "source": [
    "#نصب کتابخانه ورد\n",
    "#pip install python-docx\n",
    "# وارد کردن کتابخانه ورد\n",
    "from docx import Document\n",
    "import docx"
   ]
  },
  {
   "cell_type": "code",
   "execution_count": 2,
   "metadata": {},
   "outputs": [],
   "source": [
    "#ساخت مسیر فایل ورد در پایتون\n",
    "doc = open(\"C:\\\\Users\\\\ShahinN\\\\Desktop\\\\translate.docx\",\"rb\")"
   ]
  },
  {
   "cell_type": "code",
   "execution_count": 3,
   "metadata": {},
   "outputs": [],
   "source": [
    "#خواندن فایل ورد\n",
    "document = docx.Document(doc)"
   ]
  },
  {
   "cell_type": "code",
   "execution_count": 4,
   "metadata": {},
   "outputs": [],
   "source": [
    "#ساخت تابع استخراج دیتای متن\n",
    "docu=\"\"\n",
    "for para in document.paragraphs:\n",
    "    docu += para.text"
   ]
  },
  {
   "cell_type": "code",
   "execution_count": 5,
   "metadata": {},
   "outputs": [
    {
     "name": "stdout",
     "output_type": "stream",
     "text": [
      "The incumbent and new entrant’s behavioral analysis considering the game theory approach(Case study: Taxi, Snapp and Tap30)AbstractThe competitive context changes result in the strategic reaction of the incumbents to the new entrants. The empirical researchers indicate that incumbents have different reaction in respect to their capabilities and beliefs about their rivals. Studies show that the incumbents rely on a lot of mechanisms in order to compete or adapt themselves with the new entrants. Hence this study expresses some conditions to determine how the incumbents need to react to the new entrants. The principal objective of the actual research is to introduce models to maximize the profitability of Taxi, Snapp and Tap30 considering the main mechanisms like pricing, innovation and branding. Therefore, based on the Nash equilibrium, the behavior of Taxi, Snapp and Tap30 were analyzed and for every each of the models, and optimal decision was made. In order to increase the reliability of proposed models, Nash equilibrium was executed by MATLAB and the results were analyzed in 35 experimental designs. For better comprehension of the parameters influence on independent variables and the candidate’s profit, Anderson-Darling criteria was used and the final outcome indicated a positive correlation between Price and profitability.IntroductionOne of the most popular research subjects is the difference of incumbent’s reactions to technological changes which has enriched “the new entrants vs. the incumbents” literature. (Tuchman &Anderson (1986); Christensen &Bower (1996); Trips (1997)). The entrance of new companies is one of principal factors of transformation in an industry (McCann & Vroom (2010); Thomas (1999)) and the increase of competition inside an industry. (McCann & Vroom, 2010) New entrants will increase the intensity of competition (Simon, 2005), decrease the market share and profitability of incumbents (Simon, 2005; Thomas 1999) and decrease the price for consumers (Thomas, 1999, Gorski, 1995). Therefore, consumers will experience much more diversity and better quality (Thomas, 1999). On the other hand, they force the incumbents to be more efficient and more innovative (Gorski, 1995). New entrants normally cause threats to incumbents (McCann & Vroom, 2010). Therefore, the incumbents have lost of motivation to imped new entrants from entering the mark while the consumers receive them broadly (Simon, 2005).In the taxi industry of Iran, Snapp and Tab30 changed the taxi industry business model through imitation from Uber and innovation. This was done simultaneously with the internet infrastructure development and satisfied so many customers because of the security increase, certain and cheaper pricing in comparison with taxi service and their entrance resulted in service transparency and better accessibility.This Happened so quickly that all of a sudden, taxi drivers confronted with low profit and saturated market and consequently, the conflicts between them and new entrants had been raised. Online transportation platforms reduced the fare and changed the market discipline.Problem definitionIn this article, for better comprehension of the problem, the parameters, decision and hypothesis variables will be defined.Research hypothesisIn this problem, taxi, Snapp and Tab30 are marked “t”, “s” and “c” respectively. Taxi is an incumbent and the other two are new entrants.These three provide homogeneous and substitutable services.The demand function as its shown in the 1st equation is a nonlinear function and demonstrates branding and innovation costs at the target market.1st equation:In the above equation, price has inverse relationship with its demand for the utilization of every each of the firm. As the price increases, the customer’s desire to use the service would be reduced.Also, the demand of every each of the players is a direct function of branding and innovation cost.In other words, as the companies invest more on their platforms, the potential customer would have more motivation to use them.Considers unlimited planning and is based on a specific period of time.All the players have conscious behavior.Research semioticsIn this problem, mathematical symbols were used in order in order to introduce parameters, variables and functions according to the below table.Table 1: Research semioticsModel structureIn this study, we consider three players which provide homogeneous and substitutable services. Therefore, in order to determine equilibrated values between players, a demand function or in other words, consequently the pay off of every each of the players will be determined.Taxi model structureIn the model, taxi demand function as shown the 2nd equation is like a nonlinear function which has three decision variables: price (P), branding (CB) and innovation (CI).2nd equationTaxi daily profit is calculated as the 3rd equation.3rd equationConsidering the Nash definition, a player always reacts to the best decisions of other players; because the other ones are also aware and never accept nonoptimal conditions. Therefore, for Snapp, Taxi and Tab30, the best decisions are identified in the equilibrium and solution stage, considering other factors, best taxi responses are calculated utilizing the 1st derivation:Snapp model structureIn the model, Snapp demand function as shown the 4th equation is like a nonlinear function which has three decision variables: price (P), branding (CB) and innovation (CI).4th equationSnapp daily profit is calculated as the 5th equation.5th equation:Best Snapp responses are calculated utilizing the 1st derivation:Tab30 model structureIn the model, Tab30 demand function as shown the 6th equation is like a nonlinear function which has three decision variables: price (P), branding (CB) and innovation (CI).6th equationSnapp daily profit is calculated as the 7th equation.Best Tap30 responses are calculated utilizing the 1st derivation:AnalyticsIn this part by providing real world numerical examples, the values of decision variables and profit of every each of the players (taxi, Snapp and Tab30) are calculated and the influence of parameters on their performance are analyzed through plots.Table 2: Primary inputsThe 1st group of transactional parameters contains constants (k) in the nonlinear demand transactions. The 2nd group of cost parameters contains cost constants of players and finally, the 3rd group contains increase coefficient for pricing, branding and innovation. Now in order to analyze sensitivity of provided models, nonlinear equation parameters of demand function are considered as the base of experimental design. Β, α, , k and j was designed in the demand nonlinear equations and the minimum and maximum values for five above mentioned parameters are considered in the table below.Table 3 : Key parameters rangeTable 4: Experimental designs Using the 2k experimental designs, 70 experimental designs were assessed considering the minimum and maximum value for five parameters. According to quantity of the assessed models, the value of above-mentioned experimental design is defined with 2k-p and “half ratio” of the principal value and therefore, 35 experimental designs are defined in the table 4.According to the defined parameters, optimal decision variables and profit functions of players in the Nash model (discussed in the table 4), at first it was written in maple 40 and justifiability of the response context was accepted. Also, for better comprehension of the effect of each parameter, Anderson-Darling criteria was applied to the modeling process using the IBM SPSS Modeler.Table 5: Player profitPlot 1 compares Snapp, Tab30 and taxi situation through Nash game. Snapp gains higher profit than it’s two competitors. This is because of better pricing and creativity in Snapp services. Sensitivity analysis of the models in the 2nd, 3rd and 4th plot indicates the effect of Β, α and  on the profit. The research results show that the price has negative correlation with α and this reduces the cost of branding and innovation. Low innovation pricing in providing services and passenger’s security increase the customer satisfaction and have positive effect on profit and in accordance with this point, Snapp has better selectivity-pricing ratio. Consequently, if taxi wants to win and stay in competition, only needs to react to α.Plot 3 analyzes the () effect on player’s profit and as it’s shown, there is no correlation between () and player’ profit fluctuation.Plot 4 analyzes the  effect on player’s profit and as it’s shown, there is no correlation between and player’ profit fluctuation.Conclusion and SuggestionThis study indicates under what circumstances and based on what mechanisms; the incumbents should compete with the new entrants. Therefore, it was intended to help taxi industry as an incumbent to consider relative pricing, innovation and branding mechanisms to compete with Snapp and Tab30. In the actual research, considering the Game Theory approach; the non-cooperative models of Snapp, Tab30 and taxi were developed. As every each of the players has the same power in the urban transportation and they can make their own decisions simultaneously. Comparing the players state in the Nash equilibrium, Snapp’s profit is higher than the other two players. On the other hand, the sensitivity analysis of the above-mentioned models shows that unlike χ and β, α has a strong positive correlation with profit. Also, the results show that Snapp gains more profit because of better pricing. Consequently, if taxi wants to stay in the competition, it needs to react to α variable and has to determine a suitable pricing in the market.Alongside the price, innovation and branding effect demand in the model whereas the influence of variables like security and publicity, time and other relative ones could be considered in the model. Also, the designed model in the actual article is based on a specific period of time or in other words, non-iterative time intervals. For further research, the provided model in this article can be developed for failing incumbents in other industries.Thomas, L. A. (1999). Incumbent firms' response to entry: Price, advertising, and new product introduction. International Journal of Industrial Organization, 17(4), 527-555.McCann, B. T., & Vroom, G. (2010). Pricing response to entry and agglomeration effects. Strategic Management Journal, 284-305.Simon, D. (2005). Incumbent pricing responses to entry. Strategic Management Journal, 26(13), 1229-1248.Geroski, P. A. (1995). What do we know about entry? International Journal of Industrial Organization, 13(4), 421-440.Tushman, M. L., & Anderson, P. (1986). Technological discontinuities and organizational environments. Administrative science quarterly, 439-465.Tripsas, M. (1997). Unraveling the process of creative destruction: Complementary assets and incumbent survival in the typesetter industry. Strategic Management Journal, 119-142.Christensen, C. M., & Bower, J. L. (1996). Customer power, strategic investment, and the failure of leading firms. Strategic management journal, 197-218.\n"
     ]
    }
   ],
   "source": [
    "print(docu)"
   ]
  },
  {
   "cell_type": "code",
   "execution_count": null,
   "metadata": {},
   "outputs": [],
   "source": []
  }
 ],
 "metadata": {
  "kernelspec": {
   "display_name": "Python 3",
   "language": "python",
   "name": "python3"
  },
  "language_info": {
   "codemirror_mode": {
    "name": "ipython",
    "version": 3
   },
   "file_extension": ".py",
   "mimetype": "text/x-python",
   "name": "python",
   "nbconvert_exporter": "python",
   "pygments_lexer": "ipython3",
   "version": "3.7.3"
  }
 },
 "nbformat": 4,
 "nbformat_minor": 2
}
