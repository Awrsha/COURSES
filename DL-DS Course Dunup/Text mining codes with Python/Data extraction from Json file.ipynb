{
 "cells": [
  {
   "cell_type": "code",
   "execution_count": 1,
   "metadata": {},
   "outputs": [],
   "source": [
    "# وارد کردن کتابخانه و فایل های مربوطه\n",
    "import requests\n",
    "import json"
   ]
  },
  {
   "cell_type": "markdown",
   "metadata": {},
   "source": [
    "## استخراج متن از فایل"
   ]
  },
  {
   "cell_type": "code",
   "execution_count": 2,
   "metadata": {},
   "outputs": [
    {
     "name": "stdout",
     "output_type": "stream",
     "text": [
      "{\n",
      "    \"success\": {\n",
      "        \"total\": 1\n",
      "    },\n",
      "    \"contents\": {\n",
      "        \"quotes\": [\n",
      "            {\n",
      "                \"quote\": \"It's not whether you get knocked down, it...s whether you get up.\",\n",
      "                \"length\": \"65\",\n",
      "                \"author\": \"Vince Lombardi\",\n",
      "                \"tags\": [\n",
      "                    \"failure\",\n",
      "                    \"inspire\",\n",
      "                    \"learning-from-failure\",\n",
      "                    \"tod\"\n",
      "                ],\n",
      "                \"category\": \"inspire\",\n",
      "                \"date\": \"2019-09-20\",\n",
      "                \"permalink\": \"https://theysaidso.com/quote/768262-vince-lombardi-its-not-whether-you-get-knocked-down-its-whether-you-get-up\",\n",
      "                \"title\": \"Inspiring Quote of the day\",\n",
      "                \"background\": \"https://theysaidso.com/img/bgs/man_on_the_mountain.jpg\",\n",
      "                \"id\": \"06Qdox8w6U3U1CGlLqRwFAeF\"\n",
      "            }\n",
      "        ],\n",
      "        \"copyright\": \"2017-19 theysaidso.com\"\n",
      "    }\n",
      "}\n"
     ]
    }
   ],
   "source": [
    "#json خواندن \"https://quotes.rest/qod.json\"\n",
    "r = requests.get(\"https://quotes.rest/qod.json\")\n",
    "res = r.json()\n",
    "print(json.dumps(res, indent = 4))"
   ]
  },
  {
   "cell_type": "code",
   "execution_count": 3,
   "metadata": {},
   "outputs": [
    {
     "data": {
      "text/plain": [
       "{'quote': \"It's not whether you get knocked down, it...s whether you get up.\",\n",
       " 'length': '65',\n",
       " 'author': 'Vince Lombardi',\n",
       " 'tags': ['failure', 'inspire', 'learning-from-failure', 'tod'],\n",
       " 'category': 'inspire',\n",
       " 'date': '2019-09-20',\n",
       " 'permalink': 'https://theysaidso.com/quote/768262-vince-lombardi-its-not-whether-you-get-knocked-down-its-whether-you-get-up',\n",
       " 'title': 'Inspiring Quote of the day',\n",
       " 'background': 'https://theysaidso.com/img/bgs/man_on_the_mountain.jpg',\n",
       " 'id': '06Qdox8w6U3U1CGlLqRwFAeF'}"
      ]
     },
     "execution_count": 3,
     "metadata": {},
     "output_type": "execute_result"
    }
   ],
   "source": [
    "#استخراج محتوا\n",
    "q = res['contents']['quotes'][0]\n",
    "q"
   ]
  },
  {
   "cell_type": "code",
   "execution_count": 4,
   "metadata": {},
   "outputs": [
    {
     "name": "stdout",
     "output_type": "stream",
     "text": [
      "It's not whether you get knocked down, it...s whether you get up. \n",
      "-- Vince Lombardi\n"
     ]
    }
   ],
   "source": [
    "#استخراج نقل قول و  نام نویسنده\n",
    "print(q['quote'], '\\n--', q['author'])"
   ]
  },
  {
   "cell_type": "code",
   "execution_count": null,
   "metadata": {},
   "outputs": [],
   "source": []
  }
 ],
 "metadata": {
  "kernelspec": {
   "display_name": "Python 3",
   "language": "python",
   "name": "python3"
  },
  "language_info": {
   "codemirror_mode": {
    "name": "ipython",
    "version": 3
   },
   "file_extension": ".py",
   "mimetype": "text/x-python",
   "name": "python",
   "nbconvert_exporter": "python",
   "pygments_lexer": "ipython3",
   "version": "3.7.3"
  }
 },
 "nbformat": 4,
 "nbformat_minor": 2
}
